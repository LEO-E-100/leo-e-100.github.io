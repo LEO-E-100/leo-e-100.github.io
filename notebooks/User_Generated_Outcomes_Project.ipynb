{
 "cells": [
  {
   "cell_type": "markdown",
   "metadata": {},
   "source": [
    "# User Generated Outcomes\n",
    "\n",
    "## Introduction\n",
    "\n",
    "During the 3 months I worked with NHS Digital and Joseph Connor I focussed on one particular problem within the NHS and in particular in finding a technological solution. The problem can be easily described in a single sentence.\n",
    "\n",
    "> It is not currently possible to follow up NHS interactions in order to classify outcomes.\n",
    "\n",
    "This may seem like a very basic function for any institution to carry out in order to validate the work that they do. However it has not been a priority for the NHS. I began the project looking at how other industries have solved this problem. \n",
    "\n",
    "An initial idea was to use a similar technology to the 'Happy or Not' bots. It was quickly decided that these would be highly impractical to install in every hospital, GP and other frontline NHS services. However a technological solution could be found which would operate in a similar way. \n",
    "\n",
    "## NHS 111\n",
    "\n",
    "The target for a proof of concept for such a technology was chosen as the NHS 111 service. It became clear after an extensive literature review that there is little to no follow up to NHS 111 calls. After a call has been made and a disposition reached by following the highly structured system for the call. \n",
    "\n",
    "A follow up to the \n",
    "\n"
   ]
  },
  {
   "cell_type": "code",
   "execution_count": null,
   "metadata": {
    "collapsed": true
   },
   "outputs": [],
   "source": []
  }
 ],
 "metadata": {
  "kernelspec": {
   "display_name": "GA",
   "language": "python",
   "name": "ga"
  },
  "language_info": {
   "codemirror_mode": {
    "name": "ipython",
    "version": 2
   },
   "file_extension": ".py",
   "mimetype": "text/x-python",
   "name": "python",
   "nbconvert_exporter": "python",
   "pygments_lexer": "ipython2",
   "version": "2.7.14"
  },
  "toc": {
   "nav_menu": {},
   "number_sections": true,
   "sideBar": true,
   "skip_h1_title": false,
   "toc_cell": false,
   "toc_position": {},
   "toc_section_display": "block",
   "toc_window_display": false
  }
 },
 "nbformat": 4,
 "nbformat_minor": 2
}
