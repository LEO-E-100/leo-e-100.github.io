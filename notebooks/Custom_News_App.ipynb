{
 "cells": [
  {
   "cell_type": "markdown",
   "metadata": {},
   "source": [
    "# Building A Custom News Feed\n",
    "\n",
    "Principle is to build an email service app that will deliver a daily email with 5 recommended articles based on what articles are in a persons pocket account (labelled dataset). This will initally mean creating a model based on data pulled from pocket using the API. Laterly this will mean creating a service that will pull news from RSS feeds and testing them against the model to find top recommendations. Then creating a second service that will send out automatic emails with recommended articles"
   ]
  },
  {
   "cell_type": "code",
   "execution_count": 2,
   "metadata": {
    "collapsed": true
   },
   "outputs": [],
   "source": [
    "import requests\n",
    "import pandas as pd\n",
    "import json\n",
    "import config\n",
    "pd.set_option('display.max_colwidth', 200)"
   ]
  },
  {
   "cell_type": "markdown",
   "metadata": {},
   "source": [
    "## Creating supervised dataset\n",
    "\n",
    "Using the Pocket API to create the initial dataset. Having curated a dataset by adding ~200 articles to pocket and tagged them with 'y' or 'n' depending on whether the user is interested in the article. Ultimately this will give a dataframe of article urls and a label of whether the user is interested or not."
   ]
  },
  {
   "cell_type": "code",
   "execution_count": null,
   "metadata": {
    "collapsed": true
   },
   "outputs": [],
   "source": [
    "# API authorisation. Once Access Key is known no need to re-run.\n",
    "auth_params = {\n",
    "    'consumer_key' : config.consumer_key, \n",
    "    'redirect_uri' : 'https://twitter.com/leojpedwards'\n",
    "}\n",
    "tkn = requests.post('https://getpocket.com/v3/oauth/request', data=auth_params)\n",
    "string_tkn = str(tkn.content)\n",
    "split_tkn = string_tkn.split('=')[1].replace('\\'', '')"
   ]
  },
  {
   "cell_type": "code",
   "execution_count": null,
   "metadata": {
    "collapsed": true
   },
   "outputs": [],
   "source": [
    "usr_params = {\n",
    "    'consumer_key' : config.consumer_key, \n",
    "    'code' : split_tkn\n",
    "}\n",
    "usr = requests.post('https://getpocket.com/v3/oauth/authorize', data=usr_params)\n",
    "usr.content"
   ]
  },
  {
   "cell_type": "code",
   "execution_count": 16,
   "metadata": {
    "collapsed": true
   },
   "outputs": [],
   "source": [
    "no_params = {\n",
    "    'consumer_key' : config.consumer_key,\n",
    "    'access_token' : config.access_token,\n",
    "    'tag' : 'n'\n",
    "}\n",
    "no_result = requests.post('https://getpocket.com/v3/get', data=no_params)"
   ]
  },
  {
   "cell_type": "code",
   "execution_count": 17,
   "metadata": {
    "collapsed": true
   },
   "outputs": [],
   "source": [
    "no_json = no_result.json()\n",
    "no_list = no_json['list']\n",
    "no_urls = []\n",
    "for i in no_list.values():\n",
    "    no_urls.append(i.get('resolved_url'))"
   ]
  },
  {
   "cell_type": "code",
   "execution_count": 18,
   "metadata": {},
   "outputs": [
    {
     "data": {
      "text/html": [
       "<div>\n",
       "<style scoped>\n",
       "    .dataframe tbody tr th:only-of-type {\n",
       "        vertical-align: middle;\n",
       "    }\n",
       "\n",
       "    .dataframe tbody tr th {\n",
       "        vertical-align: top;\n",
       "    }\n",
       "\n",
       "    .dataframe thead th {\n",
       "        text-align: right;\n",
       "    }\n",
       "</style>\n",
       "<table border=\"1\" class=\"dataframe\">\n",
       "  <thead>\n",
       "    <tr style=\"text-align: right;\">\n",
       "      <th></th>\n",
       "      <th>urls</th>\n",
       "      <th>wanted</th>\n",
       "    </tr>\n",
       "  </thead>\n",
       "  <tbody>\n",
       "    <tr>\n",
       "      <th>0</th>\n",
       "      <td>http://www.bbc.co.uk/news/av/world-us-canada-42698308/firefighter-catches-child-from-burning-building</td>\n",
       "      <td>n</td>\n",
       "    </tr>\n",
       "    <tr>\n",
       "      <th>1</th>\n",
       "      <td>https://www.reddit.com/r/hacking/comments/73gtvh/darren_kitchenhacking_as_a_way_of_thinking/</td>\n",
       "      <td>n</td>\n",
       "    </tr>\n",
       "    <tr>\n",
       "      <th>2</th>\n",
       "      <td>https://xkcd.com/974/</td>\n",
       "      <td>n</td>\n",
       "    </tr>\n",
       "    <tr>\n",
       "      <th>3</th>\n",
       "      <td>http://www.bbc.co.uk/news/world-europe-42701702</td>\n",
       "      <td>n</td>\n",
       "    </tr>\n",
       "    <tr>\n",
       "      <th>4</th>\n",
       "      <td>http://www.bbc.co.uk/news/uk-42704691</td>\n",
       "      <td>n</td>\n",
       "    </tr>\n",
       "  </tbody>\n",
       "</table>\n",
       "</div>"
      ],
      "text/plain": [
       "                                                                                                    urls  \\\n",
       "0  http://www.bbc.co.uk/news/av/world-us-canada-42698308/firefighter-catches-child-from-burning-building   \n",
       "1           https://www.reddit.com/r/hacking/comments/73gtvh/darren_kitchenhacking_as_a_way_of_thinking/   \n",
       "2                                                                                  https://xkcd.com/974/   \n",
       "3                                                        http://www.bbc.co.uk/news/world-europe-42701702   \n",
       "4                                                                  http://www.bbc.co.uk/news/uk-42704691   \n",
       "\n",
       "  wanted  \n",
       "0      n  \n",
       "1      n  \n",
       "2      n  \n",
       "3      n  \n",
       "4      n  "
      ]
     },
     "execution_count": 18,
     "metadata": {},
     "output_type": "execute_result"
    }
   ],
   "source": [
    "no_df = pd.DataFrame(no_urls, columns=['urls'])\n",
    "no_df = no_df.assign(wanted = lambda x: 'n')\n",
    "no_df.head()"
   ]
  },
  {
   "cell_type": "code",
   "execution_count": 19,
   "metadata": {
    "collapsed": true
   },
   "outputs": [],
   "source": [
    "yes_params = {\n",
    "    'consumer_key' : config.consumer_key,\n",
    "    'access_token' : config.access_token,\n",
    "    'tag' : 'y'\n",
    "}\n",
    "yes_result = requests.post('https://getpocket.com/v3/get', data=yes_params)"
   ]
  },
  {
   "cell_type": "code",
   "execution_count": 20,
   "metadata": {
    "collapsed": true
   },
   "outputs": [],
   "source": [
    "yes_json = yes_result.json()\n",
    "yes_list = no_json['list']\n",
    "yes_urls = []\n",
    "for i in yes_list.values():\n",
    "    yes_urls.append(i.get('resolved_url'))"
   ]
  },
  {
   "cell_type": "code",
   "execution_count": 21,
   "metadata": {},
   "outputs": [
    {
     "data": {
      "text/html": [
       "<div>\n",
       "<style scoped>\n",
       "    .dataframe tbody tr th:only-of-type {\n",
       "        vertical-align: middle;\n",
       "    }\n",
       "\n",
       "    .dataframe tbody tr th {\n",
       "        vertical-align: top;\n",
       "    }\n",
       "\n",
       "    .dataframe thead th {\n",
       "        text-align: right;\n",
       "    }\n",
       "</style>\n",
       "<table border=\"1\" class=\"dataframe\">\n",
       "  <thead>\n",
       "    <tr style=\"text-align: right;\">\n",
       "      <th></th>\n",
       "      <th>urls</th>\n",
       "      <th>wanted</th>\n",
       "    </tr>\n",
       "  </thead>\n",
       "  <tbody>\n",
       "    <tr>\n",
       "      <th>0</th>\n",
       "      <td>http://www.bbc.co.uk/news/av/world-us-canada-42698308/firefighter-catches-child-from-burning-building</td>\n",
       "      <td>y</td>\n",
       "    </tr>\n",
       "    <tr>\n",
       "      <th>1</th>\n",
       "      <td>https://www.reddit.com/r/hacking/comments/73gtvh/darren_kitchenhacking_as_a_way_of_thinking/</td>\n",
       "      <td>y</td>\n",
       "    </tr>\n",
       "    <tr>\n",
       "      <th>2</th>\n",
       "      <td>https://xkcd.com/974/</td>\n",
       "      <td>y</td>\n",
       "    </tr>\n",
       "    <tr>\n",
       "      <th>3</th>\n",
       "      <td>http://www.bbc.co.uk/news/world-europe-42701702</td>\n",
       "      <td>y</td>\n",
       "    </tr>\n",
       "    <tr>\n",
       "      <th>4</th>\n",
       "      <td>http://www.bbc.co.uk/news/uk-42704691</td>\n",
       "      <td>y</td>\n",
       "    </tr>\n",
       "  </tbody>\n",
       "</table>\n",
       "</div>"
      ],
      "text/plain": [
       "                                                                                                    urls  \\\n",
       "0  http://www.bbc.co.uk/news/av/world-us-canada-42698308/firefighter-catches-child-from-burning-building   \n",
       "1           https://www.reddit.com/r/hacking/comments/73gtvh/darren_kitchenhacking_as_a_way_of_thinking/   \n",
       "2                                                                                  https://xkcd.com/974/   \n",
       "3                                                        http://www.bbc.co.uk/news/world-europe-42701702   \n",
       "4                                                                  http://www.bbc.co.uk/news/uk-42704691   \n",
       "\n",
       "  wanted  \n",
       "0      y  \n",
       "1      y  \n",
       "2      y  \n",
       "3      y  \n",
       "4      y  "
      ]
     },
     "execution_count": 21,
     "metadata": {},
     "output_type": "execute_result"
    }
   ],
   "source": [
    "yes_df = pd.DataFrame(yes_urls, columns=['urls'])\n",
    "yes_df = yes_df.assign(wanted = lambda x: 'y')\n",
    "yes_df.head()"
   ]
  },
  {
   "cell_type": "code",
   "execution_count": 22,
   "metadata": {},
   "outputs": [
    {
     "data": {
      "text/html": [
       "<div>\n",
       "<style scoped>\n",
       "    .dataframe tbody tr th:only-of-type {\n",
       "        vertical-align: middle;\n",
       "    }\n",
       "\n",
       "    .dataframe tbody tr th {\n",
       "        vertical-align: top;\n",
       "    }\n",
       "\n",
       "    .dataframe thead th {\n",
       "        text-align: right;\n",
       "    }\n",
       "</style>\n",
       "<table border=\"1\" class=\"dataframe\">\n",
       "  <thead>\n",
       "    <tr style=\"text-align: right;\">\n",
       "      <th></th>\n",
       "      <th>urls</th>\n",
       "      <th>wanted</th>\n",
       "    </tr>\n",
       "  </thead>\n",
       "  <tbody>\n",
       "    <tr>\n",
       "      <th>0</th>\n",
       "      <td>http://www.bbc.co.uk/news/av/world-us-canada-42698308/firefighter-catches-child-from-burning-building</td>\n",
       "      <td>y</td>\n",
       "    </tr>\n",
       "    <tr>\n",
       "      <th>1</th>\n",
       "      <td>https://www.reddit.com/r/hacking/comments/73gtvh/darren_kitchenhacking_as_a_way_of_thinking/</td>\n",
       "      <td>y</td>\n",
       "    </tr>\n",
       "    <tr>\n",
       "      <th>2</th>\n",
       "      <td>https://xkcd.com/974/</td>\n",
       "      <td>y</td>\n",
       "    </tr>\n",
       "    <tr>\n",
       "      <th>3</th>\n",
       "      <td>http://www.bbc.co.uk/news/world-europe-42701702</td>\n",
       "      <td>y</td>\n",
       "    </tr>\n",
       "    <tr>\n",
       "      <th>4</th>\n",
       "      <td>http://www.bbc.co.uk/news/uk-42704691</td>\n",
       "      <td>y</td>\n",
       "    </tr>\n",
       "  </tbody>\n",
       "</table>\n",
       "</div>"
      ],
      "text/plain": [
       "                                                                                                    urls  \\\n",
       "0  http://www.bbc.co.uk/news/av/world-us-canada-42698308/firefighter-catches-child-from-burning-building   \n",
       "1           https://www.reddit.com/r/hacking/comments/73gtvh/darren_kitchenhacking_as_a_way_of_thinking/   \n",
       "2                                                                                  https://xkcd.com/974/   \n",
       "3                                                        http://www.bbc.co.uk/news/world-europe-42701702   \n",
       "4                                                                  http://www.bbc.co.uk/news/uk-42704691   \n",
       "\n",
       "  wanted  \n",
       "0      y  \n",
       "1      y  \n",
       "2      y  \n",
       "3      y  \n",
       "4      y  "
      ]
     },
     "execution_count": 22,
     "metadata": {},
     "output_type": "execute_result"
    }
   ],
   "source": [
    "df = pd.concat([yes_df, no_df])\n",
    "df.dropna(inplace=True)\n",
    "df.head()"
   ]
  },
  {
   "cell_type": "markdown",
   "metadata": {},
   "source": [
    "## Scraping article content\n",
    "\n",
    "Once the URLs have been recovered it is necessary to scrape the text from these articles in order to carry out the NLP steps. This requires the use of scraping on a number of different web sources. This would be a time consuming process if I were to write a bespoke web scraper for each website. Therefore I decided to use an link embedding service with an api to query. Initially I tried to use embed.ly however this is now a very expensive paid service. I instead have used embed.rocks. This is tested below and applied to the whole list of article URLs from above. \n",
    "\n",
    "Once the raw HTML has been extracted from the API, it was necessary to add just the text as a new column which is done using BeautifulSoup."
   ]
  },
  {
   "cell_type": "markdown",
   "metadata": {},
   "source": [
    "### Test embed API"
   ]
  },
  {
   "cell_type": "code",
   "execution_count": 24,
   "metadata": {
    "collapsed": true
   },
   "outputs": [],
   "source": [
    "test = requests.get('https://api.embed.rocks/api/?url=http://www.randalolson.com/2014/10/27/the-reddit-world-map/&key=' + config.embed_rocks_key)\n",
    "test_2 = json.loads(test.text)\n",
    "test_3 = test_2.get('article')"
   ]
  },
  {
   "cell_type": "code",
   "execution_count": 26,
   "metadata": {},
   "outputs": [
    {
     "data": {
      "text/html": [
       "<div>\n",
       "<style scoped>\n",
       "    .dataframe tbody tr th:only-of-type {\n",
       "        vertical-align: middle;\n",
       "    }\n",
       "\n",
       "    .dataframe tbody tr th {\n",
       "        vertical-align: top;\n",
       "    }\n",
       "\n",
       "    .dataframe thead th {\n",
       "        text-align: right;\n",
       "    }\n",
       "</style>\n",
       "<table border=\"1\" class=\"dataframe\">\n",
       "  <thead>\n",
       "    <tr style=\"text-align: right;\">\n",
       "      <th></th>\n",
       "      <th>urls</th>\n",
       "      <th>wanted</th>\n",
       "      <th>html</th>\n",
       "    </tr>\n",
       "  </thead>\n",
       "  <tbody>\n",
       "    <tr>\n",
       "      <th>0</th>\n",
       "      <td>http://www.bbc.co.uk/news/av/world-us-canada-42698308/firefighter-catches-child-from-burning-building</td>\n",
       "      <td>y</td>\n",
       "      <td>&lt;div&gt;&lt;/div&gt;</td>\n",
       "    </tr>\n",
       "    <tr>\n",
       "      <th>1</th>\n",
       "      <td>https://www.reddit.com/r/hacking/comments/73gtvh/darren_kitchenhacking_as_a_way_of_thinking/</td>\n",
       "      <td>y</td>\n",
       "      <td>&lt;div&gt;&lt;/div&gt;</td>\n",
       "    </tr>\n",
       "    <tr>\n",
       "      <th>2</th>\n",
       "      <td>https://xkcd.com/974/</td>\n",
       "      <td>y</td>\n",
       "      <td>&lt;div&gt;&lt;p&gt;\\nThis means you&amp;apos;re free to copy and share these comics (but not to sell them). &lt;a href=\"/license.html\"&gt;More details&lt;/a&gt;.&lt;/p&gt;&lt;/div&gt;</td>\n",
       "    </tr>\n",
       "    <tr>\n",
       "      <th>3</th>\n",
       "      <td>http://www.bbc.co.uk/news/world-europe-42701702</td>\n",
       "      <td>y</td>\n",
       "      <td>&lt;div&gt;&lt;p&gt;President Emmanuel Macron says France will not allow a new migrant camp to be set up in Calais, on a visit to the port where many gather, hoping to get to the UK. &lt;/p&gt;&lt;p&gt;Up to 700 migrants...</td>\n",
       "    </tr>\n",
       "    <tr>\n",
       "      <th>4</th>\n",
       "      <td>http://www.bbc.co.uk/news/uk-42704691</td>\n",
       "      <td>y</td>\n",
       "      <td>&lt;div&gt;&lt;p&gt;Big Ben and Heathrow Airport were among landmarks targeted by a British man who was &amp;quot;fascinated&amp;quot; by the so-called Islamic State, a court has heard.&lt;/p&gt;&lt;p&gt;Umar Ahmed Haque, 25, fr...</td>\n",
       "    </tr>\n",
       "  </tbody>\n",
       "</table>\n",
       "</div>"
      ],
      "text/plain": [
       "                                                                                                    urls  \\\n",
       "0  http://www.bbc.co.uk/news/av/world-us-canada-42698308/firefighter-catches-child-from-burning-building   \n",
       "1           https://www.reddit.com/r/hacking/comments/73gtvh/darren_kitchenhacking_as_a_way_of_thinking/   \n",
       "2                                                                                  https://xkcd.com/974/   \n",
       "3                                                        http://www.bbc.co.uk/news/world-europe-42701702   \n",
       "4                                                                  http://www.bbc.co.uk/news/uk-42704691   \n",
       "\n",
       "  wanted  \\\n",
       "0      y   \n",
       "1      y   \n",
       "2      y   \n",
       "3      y   \n",
       "4      y   \n",
       "\n",
       "                                                                                                                                                                                                      html  \n",
       "0                                                                                                                                                                                              <div></div>  \n",
       "1                                                                                                                                                                                              <div></div>  \n",
       "2                                                         <div><p>\\nThis means you&apos;re free to copy and share these comics (but not to sell them). <a href=\"/license.html\">More details</a>.</p></div>  \n",
       "3  <div><p>President Emmanuel Macron says France will not allow a new migrant camp to be set up in Calais, on a visit to the port where many gather, hoping to get to the UK. </p><p>Up to 700 migrants...  \n",
       "4  <div><p>Big Ben and Heathrow Airport were among landmarks targeted by a British man who was &quot;fascinated&quot; by the so-called Islamic State, a court has heard.</p><p>Umar Ahmed Haque, 25, fr...  "
      ]
     },
     "execution_count": 26,
     "metadata": {},
     "output_type": "execute_result"
    }
   ],
   "source": [
    "import urllib\n",
    "def get_html(x):\n",
    "    qurl = urllib.parse.quote(x)\n",
    "    rhtml = requests.get('https://api.embed.rocks/api/?url=' + qurl + '&key=' + config.embed_rocks_key)\n",
    "    try:\n",
    "        ctnt = json.loads(rhtml.text).get('article')\n",
    "    except ValueError:\n",
    "        ctnt = None\n",
    "    return ctnt\n",
    "df.loc[:, 'html'] = df['urls'].map(get_html)\n",
    "df.dropna(inplace=True)\n",
    "df.head()"
   ]
  },
  {
   "cell_type": "code",
   "execution_count": 28,
   "metadata": {},
   "outputs": [
    {
     "data": {
      "text/html": [
       "<div>\n",
       "<style scoped>\n",
       "    .dataframe tbody tr th:only-of-type {\n",
       "        vertical-align: middle;\n",
       "    }\n",
       "\n",
       "    .dataframe tbody tr th {\n",
       "        vertical-align: top;\n",
       "    }\n",
       "\n",
       "    .dataframe thead th {\n",
       "        text-align: right;\n",
       "    }\n",
       "</style>\n",
       "<table border=\"1\" class=\"dataframe\">\n",
       "  <thead>\n",
       "    <tr style=\"text-align: right;\">\n",
       "      <th></th>\n",
       "      <th>urls</th>\n",
       "      <th>wanted</th>\n",
       "      <th>html</th>\n",
       "      <th>text</th>\n",
       "    </tr>\n",
       "  </thead>\n",
       "  <tbody>\n",
       "    <tr>\n",
       "      <th>0</th>\n",
       "      <td>http://www.bbc.co.uk/news/av/world-us-canada-42698308/firefighter-catches-child-from-burning-building</td>\n",
       "      <td>y</td>\n",
       "      <td>&lt;div&gt;&lt;/div&gt;</td>\n",
       "      <td></td>\n",
       "    </tr>\n",
       "    <tr>\n",
       "      <th>1</th>\n",
       "      <td>https://www.reddit.com/r/hacking/comments/73gtvh/darren_kitchenhacking_as_a_way_of_thinking/</td>\n",
       "      <td>y</td>\n",
       "      <td>&lt;div&gt;&lt;/div&gt;</td>\n",
       "      <td></td>\n",
       "    </tr>\n",
       "    <tr>\n",
       "      <th>2</th>\n",
       "      <td>https://xkcd.com/974/</td>\n",
       "      <td>y</td>\n",
       "      <td>&lt;div&gt;&lt;p&gt;\\nThis means you&amp;apos;re free to copy and share these comics (but not to sell them). &lt;a href=\"/license.html\"&gt;More details&lt;/a&gt;.&lt;/p&gt;&lt;/div&gt;</td>\n",
       "      <td>\\nThis means you're free to copy and share these comics (but not to sell them). More details.</td>\n",
       "    </tr>\n",
       "    <tr>\n",
       "      <th>3</th>\n",
       "      <td>http://www.bbc.co.uk/news/world-europe-42701702</td>\n",
       "      <td>y</td>\n",
       "      <td>&lt;div&gt;&lt;p&gt;President Emmanuel Macron says France will not allow a new migrant camp to be set up in Calais, on a visit to the port where many gather, hoping to get to the UK. &lt;/p&gt;&lt;p&gt;Up to 700 migrants...</td>\n",
       "      <td>President Emmanuel Macron says France will not allow a new migrant camp to be set up in Calais, on a visit to the port where many gather, hoping to get to the UK. Up to 700 migrants are congregati...</td>\n",
       "    </tr>\n",
       "    <tr>\n",
       "      <th>4</th>\n",
       "      <td>http://www.bbc.co.uk/news/uk-42704691</td>\n",
       "      <td>y</td>\n",
       "      <td>&lt;div&gt;&lt;p&gt;Big Ben and Heathrow Airport were among landmarks targeted by a British man who was &amp;quot;fascinated&amp;quot; by the so-called Islamic State, a court has heard.&lt;/p&gt;&lt;p&gt;Umar Ahmed Haque, 25, fr...</td>\n",
       "      <td>Big Ben and Heathrow Airport were among landmarks targeted by a British man who was \"fascinated\" by the so-called Islamic State, a court has heard.Umar Ahmed Haque, 25, from east London, denies pr...</td>\n",
       "    </tr>\n",
       "  </tbody>\n",
       "</table>\n",
       "</div>"
      ],
      "text/plain": [
       "                                                                                                    urls  \\\n",
       "0  http://www.bbc.co.uk/news/av/world-us-canada-42698308/firefighter-catches-child-from-burning-building   \n",
       "1           https://www.reddit.com/r/hacking/comments/73gtvh/darren_kitchenhacking_as_a_way_of_thinking/   \n",
       "2                                                                                  https://xkcd.com/974/   \n",
       "3                                                        http://www.bbc.co.uk/news/world-europe-42701702   \n",
       "4                                                                  http://www.bbc.co.uk/news/uk-42704691   \n",
       "\n",
       "  wanted  \\\n",
       "0      y   \n",
       "1      y   \n",
       "2      y   \n",
       "3      y   \n",
       "4      y   \n",
       "\n",
       "                                                                                                                                                                                                      html  \\\n",
       "0                                                                                                                                                                                              <div></div>   \n",
       "1                                                                                                                                                                                              <div></div>   \n",
       "2                                                         <div><p>\\nThis means you&apos;re free to copy and share these comics (but not to sell them). <a href=\"/license.html\">More details</a>.</p></div>   \n",
       "3  <div><p>President Emmanuel Macron says France will not allow a new migrant camp to be set up in Calais, on a visit to the port where many gather, hoping to get to the UK. </p><p>Up to 700 migrants...   \n",
       "4  <div><p>Big Ben and Heathrow Airport were among landmarks targeted by a British man who was &quot;fascinated&quot; by the so-called Islamic State, a court has heard.</p><p>Umar Ahmed Haque, 25, fr...   \n",
       "\n",
       "                                                                                                                                                                                                      text  \n",
       "0                                                                                                                                                                                                           \n",
       "1                                                                                                                                                                                                           \n",
       "2                                                                                                            \\nThis means you're free to copy and share these comics (but not to sell them). More details.  \n",
       "3  President Emmanuel Macron says France will not allow a new migrant camp to be set up in Calais, on a visit to the port where many gather, hoping to get to the UK. Up to 700 migrants are congregati...  \n",
       "4  Big Ben and Heathrow Airport were among landmarks targeted by a British man who was \"fascinated\" by the so-called Islamic State, a court has heard.Umar Ahmed Haque, 25, from east London, denies pr...  "
      ]
     },
     "execution_count": 28,
     "metadata": {},
     "output_type": "execute_result"
    }
   ],
   "source": [
    "from bs4 import BeautifulSoup\n",
    "def get_text(x):\n",
    "    soup = BeautifulSoup(x, 'lxml')\n",
    "    text = soup.get_text()\n",
    "    return text\n",
    "df.loc[:, 'text'] = df['html'].map(get_text)\n",
    "df.dropna(inplace=True)\n",
    "df.head()"
   ]
  },
  {
   "cell_type": "code",
   "execution_count": 29,
   "metadata": {},
   "outputs": [
    {
     "data": {
      "text/plain": [
       "(154, 4)"
      ]
     },
     "execution_count": 29,
     "metadata": {},
     "output_type": "execute_result"
    }
   ],
   "source": [
    "df.shape"
   ]
  },
  {
   "cell_type": "markdown",
   "metadata": {},
   "source": [
    "## Natural Language Processing\n",
    "\n",
    "From the text column it is possible to call a vectorizer in order to turn the text data into a usable matrix format for Machine Learning. \n"
   ]
  },
  {
   "cell_type": "code",
   "execution_count": 30,
   "metadata": {
    "collapsed": true
   },
   "outputs": [],
   "source": [
    "from sklearn.feature_extraction.text import TfidfVectorizer\n",
    "vect = TfidfVectorizer(ngram_range=(1,3), stop_words='english', min_df=3)\n",
    "vector_matrix = vect.fit_transform(df['text'])"
   ]
  },
  {
   "cell_type": "code",
   "execution_count": 31,
   "metadata": {},
   "outputs": [
    {
     "data": {
      "text/plain": [
       "<154x2906 sparse matrix of type '<class 'numpy.float64'>'\n",
       "\twith 19228 stored elements in Compressed Sparse Row format>"
      ]
     },
     "execution_count": 31,
     "metadata": {},
     "output_type": "execute_result"
    }
   ],
   "source": [
    "vector_matrix"
   ]
  },
  {
   "cell_type": "markdown",
   "metadata": {},
   "source": [
    "## Support Vector Machines\n",
    "\n",
    "Building a Support Vector Machine model from the vectorised data. This step will require some evaluation of the quality of the model which has not yet been done as initially it was thought that the iterative process would ensure that the model was effective."
   ]
  },
  {
   "cell_type": "code",
   "execution_count": 37,
   "metadata": {
    "collapsed": true
   },
   "outputs": [],
   "source": [
    "from sklearn.svm import LinearSVC, SVC\n",
    "clf = SVC()\n",
    "model = clf.fit(vector_matrix, df['wanted'])"
   ]
  },
  {
   "cell_type": "code",
   "execution_count": 38,
   "metadata": {
    "collapsed": true
   },
   "outputs": [],
   "source": [
    "X = vector_matrix\n",
    "y = df['wanted']"
   ]
  },
  {
   "cell_type": "code",
   "execution_count": 39,
   "metadata": {},
   "outputs": [
    {
     "name": "stdout",
     "output_type": "stream",
     "text": [
      "Fitting 5 folds for each of 10 candidates, totalling 50 fits\n"
     ]
    },
    {
     "name": "stderr",
     "output_type": "stream",
     "text": [
      "[Parallel(n_jobs=1)]: Done  50 out of  50 | elapsed:    0.8s finished\n"
     ]
    }
   ],
   "source": [
    "from sklearn.model_selection import GridSearchCV\n",
    "from sklearn.model_selection import train_test_split\n",
    "import numpy as np\n",
    "\n",
    "X_train, X_test, y_train, y_test = train_test_split(X, y)\n",
    "\n",
    "params = {\n",
    "    \"C\" : [1],\n",
    "    \"kernel\" : ['rbf'],\n",
    "    \"gamma\" : np.linspace(0, 100, 10)\n",
    "}\n",
    "\n",
    "gridSearch = GridSearchCV(clf, params, cv=5, n_jobs=1, verbose=1)\n",
    "model = gridSearch.fit(X_train, y_train)"
   ]
  },
  {
   "cell_type": "code",
   "execution_count": 43,
   "metadata": {},
   "outputs": [
    {
     "name": "stdout",
     "output_type": "stream",
     "text": [
      "{'kernel': 'rbf', 'C': 1, 'gamma': 0.0}\n",
      "Score:\t 0.358974358974359\n"
     ]
    }
   ],
   "source": [
    "print (model.best_params_)\n",
    "best_model = model.best_estimator_\n",
    "best = best_model.fit(X_train, y_train)\n",
    "score = best.score(X_test, y_test)\n",
    "print ('Score:\\t', score)"
   ]
  },
  {
   "cell_type": "code",
   "execution_count": 44,
   "metadata": {},
   "outputs": [
    {
     "name": "stdout",
     "output_type": "stream",
     "text": [
      "Fitting 5 folds for each of 300 candidates, totalling 1500 fits\n"
     ]
    },
    {
     "name": "stderr",
     "output_type": "stream",
     "text": [
      "[Parallel(n_jobs=-1)]: Done 176 tasks      | elapsed:    0.7s\n",
      "[Parallel(n_jobs=-1)]: Done 1500 out of 1500 | elapsed:    4.0s finished\n"
     ]
    }
   ],
   "source": [
    "params_2 = {\n",
    "    \"C\" : np.logspace(-3, 2, 10),\n",
    "    \"kernel\" : ['linear', 'poly', 'rbf'],\n",
    "    \"gamma\" : np.logspace(-5, 2, 10)\n",
    "}\n",
    "\n",
    "gridSearch = GridSearchCV(clf, params_2, cv=5, n_jobs=-1, verbose=1)\n",
    "model_2 = gridSearch.fit(X_train, y_train)"
   ]
  },
  {
   "cell_type": "code",
   "execution_count": 51,
   "metadata": {},
   "outputs": [
    {
     "name": "stdout",
     "output_type": "stream",
     "text": [
      "{'kernel': 'linear', 'C': 0.001, 'gamma': 1e-05}\n",
      "Score:\t 0.358974358974359\n"
     ]
    }
   ],
   "source": [
    "print (model_2.best_params_)\n",
    "best_model_2 = model_2.best_estimator_\n",
    "best_2 = best_model_2.fit(X_train, y_train)\n",
    "score_2 = best_2.score(X_test, y_test)\n",
    "print ('Score:\\t', score_2)"
   ]
  },
  {
   "cell_type": "code",
   "execution_count": 49,
   "metadata": {},
   "outputs": [
    {
     "name": "stdout",
     "output_type": "stream",
     "text": [
      "Fitting 5 folds for each of 20 candidates, totalling 100 fits\n"
     ]
    },
    {
     "name": "stderr",
     "output_type": "stream",
     "text": [
      "[Parallel(n_jobs=1)]: Done 100 out of 100 | elapsed:    0.6s finished\n"
     ]
    }
   ],
   "source": [
    "clf_2 = LinearSVC()\n",
    "\n",
    "params = {\n",
    "    \"penalty\" : ['l2'],\n",
    "    \"loss\" : ['hinge', 'squared_hinge'],\n",
    "    \"C\" : np.logspace(-3, 2, 10)\n",
    "}\n",
    "\n",
    "gridSearch = GridSearchCV(clf_2, params, cv=5, n_jobs=1, verbose=1)\n",
    "model_3 = gridSearch.fit(X_train, y_train)"
   ]
  },
  {
   "cell_type": "code",
   "execution_count": 50,
   "metadata": {},
   "outputs": [
    {
     "name": "stdout",
     "output_type": "stream",
     "text": [
      "{'C': 0.001, 'penalty': 'l2', 'loss': 'hinge'}\n",
      "Score:\t 0.358974358974359\n"
     ]
    }
   ],
   "source": [
    "print (model_3.best_params_)\n",
    "best_model_3 = model_3.best_estimator_\n",
    "best_3 = best_model_3.fit(X_train, y_train)\n",
    "score_3 = best_3.score(X_test, y_test)\n",
    "print ('Score:\\t', score_3)"
   ]
  },
  {
   "cell_type": "markdown",
   "metadata": {},
   "source": [
    "### Test Gspread credentials"
   ]
  },
  {
   "cell_type": "code",
   "execution_count": 29,
   "metadata": {
    "collapsed": true
   },
   "outputs": [],
   "source": [
    "import gspread\n",
    "from oauth2client.service_account import ServiceAccountCredentials\n",
    "\n",
    "json_file = 'Custom News Feed-d7876b12a476.json'\n",
    "\n",
    "scope = ['https://spreadsheets.google.com/feeds']\n",
    "\n",
    "credentials = ServiceAccountCredentials.from_json_keyfile_name(json_file, scope)\n",
    "\n",
    "connection = gspread.authorize(credentials)"
   ]
  },
  {
   "cell_type": "code",
   "execution_count": 30,
   "metadata": {},
   "outputs": [
    {
     "data": {
      "text/html": [
       "<div>\n",
       "<style scoped>\n",
       "    .dataframe tbody tr th:only-of-type {\n",
       "        vertical-align: middle;\n",
       "    }\n",
       "\n",
       "    .dataframe tbody tr th {\n",
       "        vertical-align: top;\n",
       "    }\n",
       "\n",
       "    .dataframe thead th {\n",
       "        text-align: right;\n",
       "    }\n",
       "</style>\n",
       "<table border=\"1\" class=\"dataframe\">\n",
       "  <thead>\n",
       "    <tr style=\"text-align: right;\">\n",
       "      <th></th>\n",
       "      <th>title</th>\n",
       "      <th>urls</th>\n",
       "      <th>html</th>\n",
       "    </tr>\n",
       "  </thead>\n",
       "  <tbody>\n",
       "    <tr>\n",
       "      <th>0</th>\n",
       "      <td>The Pogues frontman's star-studded 60th birthday</td>\n",
       "      <td>http://www.bbc.co.uk/news/world-europe-42701430</td>\n",
       "      <td>The man who brought punk and Irish folk together, turned 60 with a star-studded concert.</td>\n",
       "    </tr>\n",
       "    <tr>\n",
       "      <th>1</th>\n",
       "      <td>John Worboys: Rapist's jail move bid refused in 2015</td>\n",
       "      <td>http://www.bbc.co.uk/news/uk-42700475</td>\n",
       "      <td>Parole Board confirms it denied open jail transfer two years before ruling it was safe to free rapist.</td>\n",
       "    </tr>\n",
       "    <tr>\n",
       "      <th>2</th>\n",
       "      <td>Syrian opposition calls on Trump and EU to put pressure on Russia and Iran</td>\n",
       "      <td>http://www.reuters.com/article/us-mideast-crisis-syria-opposition/syrian-opposition-calls-on-trump-and-eu-to-put-pressure-on-russia-and-iran-idUSKBN1F51LO?feedType=RSS&amp;feedName=worldNews</td>\n",
       "      <td>LONDON (Reuters) - U.S. President Donald Trump and European Union leaders should increase the pressure on President Bashar al-Assad and his allies Russia and Iran to return to talks to end Syria's...</td>\n",
       "    </tr>\n",
       "    <tr>\n",
       "      <th>3</th>\n",
       "      <td>Does MP Sir Desmond Swayne nod off in Ken Clarke's speech?</td>\n",
       "      <td>http://www.bbc.co.uk/news/uk-politics-42708212</td>\n",
       "      <td>Does MP Sir Desmond Swayne nod off during Ken Clarke's speech on the EU Withdrawal Bill?</td>\n",
       "    </tr>\n",
       "    <tr>\n",
       "      <th>4</th>\n",
       "      <td>England's first 'prisoner of war' discovered</td>\n",
       "      <td>http://www.bbc.co.uk/news/education-42690437</td>\n",
       "      <td>A French aristocrat, captured in 1357, was England's earliest official \"prisoner of war\", say historians.</td>\n",
       "    </tr>\n",
       "  </tbody>\n",
       "</table>\n",
       "</div>"
      ],
      "text/plain": [
       "                                                                        title  \\\n",
       "0                            The Pogues frontman's star-studded 60th birthday   \n",
       "1                        John Worboys: Rapist's jail move bid refused in 2015   \n",
       "2  Syrian opposition calls on Trump and EU to put pressure on Russia and Iran   \n",
       "3                  Does MP Sir Desmond Swayne nod off in Ken Clarke's speech?   \n",
       "4                                England's first 'prisoner of war' discovered   \n",
       "\n",
       "                                                                                                                                                                                         urls  \\\n",
       "0                                                                                                                                             http://www.bbc.co.uk/news/world-europe-42701430   \n",
       "1                                                                                                                                                       http://www.bbc.co.uk/news/uk-42700475   \n",
       "2  http://www.reuters.com/article/us-mideast-crisis-syria-opposition/syrian-opposition-calls-on-trump-and-eu-to-put-pressure-on-russia-and-iran-idUSKBN1F51LO?feedType=RSS&feedName=worldNews   \n",
       "3                                                                                                                                              http://www.bbc.co.uk/news/uk-politics-42708212   \n",
       "4                                                                                                                                                http://www.bbc.co.uk/news/education-42690437   \n",
       "\n",
       "                                                                                                                                                                                                      html  \n",
       "0                                                                                                                 The man who brought punk and Irish folk together, turned 60 with a star-studded concert.  \n",
       "1                                                                                                   Parole Board confirms it denied open jail transfer two years before ruling it was safe to free rapist.  \n",
       "2  LONDON (Reuters) - U.S. President Donald Trump and European Union leaders should increase the pressure on President Bashar al-Assad and his allies Russia and Iran to return to talks to end Syria's...  \n",
       "3                                                                                                                 Does MP Sir Desmond Swayne nod off during Ken Clarke's speech on the EU Withdrawal Bill?  \n",
       "4                                                                                                A French aristocrat, captured in 1357, was England's earliest official \"prisoner of war\", say historians.  "
      ]
     },
     "execution_count": 30,
     "metadata": {},
     "output_type": "execute_result"
    }
   ],
   "source": [
    "NF_file = connection.open('NewsFeed')\n",
    "NF_sheet = NF_file.sheet1\n",
    "NF_list = list(zip(NF_sheet.col_values(2), NF_sheet.col_values(3), NF_sheet.col_values(4)))\n",
    "articles_df = pd.DataFrame(NF_list, columns=['title', 'urls', 'html'])\n",
    "articles_df.replace('', pd.np.nan, inplace=True)\n",
    "articles_df.dropna(inplace=True)\n",
    "articles_df.head()"
   ]
  },
  {
   "cell_type": "code",
   "execution_count": 32,
   "metadata": {},
   "outputs": [
    {
     "data": {
      "text/plain": [
       "<5x2873 sparse matrix of type '<class 'numpy.float64'>'\n",
       "\twith 42 stored elements in Compressed Sparse Row format>"
      ]
     },
     "execution_count": 32,
     "metadata": {},
     "output_type": "execute_result"
    }
   ],
   "source": [
    "articles_df.loc[:, 'text'] = articles_df['html'].map(get_text) \n",
    "articles_df.reset_index(drop=True, inplace=True)\n",
    "test_matrix = vect.transform(articles_df['text'])\n",
    "test_matrix"
   ]
  },
  {
   "cell_type": "code",
   "execution_count": 33,
   "metadata": {
    "collapsed": true
   },
   "outputs": [],
   "source": [
    "results = pd.DataFrame(model.predict(test_matrix), columns = ['wanted'])"
   ]
  },
  {
   "cell_type": "code",
   "execution_count": 34,
   "metadata": {},
   "outputs": [
    {
     "data": {
      "text/html": [
       "<div>\n",
       "<style scoped>\n",
       "    .dataframe tbody tr th:only-of-type {\n",
       "        vertical-align: middle;\n",
       "    }\n",
       "\n",
       "    .dataframe tbody tr th {\n",
       "        vertical-align: top;\n",
       "    }\n",
       "\n",
       "    .dataframe thead th {\n",
       "        text-align: right;\n",
       "    }\n",
       "</style>\n",
       "<table border=\"1\" class=\"dataframe\">\n",
       "  <thead>\n",
       "    <tr style=\"text-align: right;\">\n",
       "      <th></th>\n",
       "      <th>wanted</th>\n",
       "    </tr>\n",
       "  </thead>\n",
       "  <tbody>\n",
       "    <tr>\n",
       "      <th>0</th>\n",
       "      <td>n</td>\n",
       "    </tr>\n",
       "    <tr>\n",
       "      <th>1</th>\n",
       "      <td>y</td>\n",
       "    </tr>\n",
       "    <tr>\n",
       "      <th>2</th>\n",
       "      <td>y</td>\n",
       "    </tr>\n",
       "    <tr>\n",
       "      <th>3</th>\n",
       "      <td>y</td>\n",
       "    </tr>\n",
       "    <tr>\n",
       "      <th>4</th>\n",
       "      <td>y</td>\n",
       "    </tr>\n",
       "  </tbody>\n",
       "</table>\n",
       "</div>"
      ],
      "text/plain": [
       "  wanted\n",
       "0      n\n",
       "1      y\n",
       "2      y\n",
       "3      y\n",
       "4      y"
      ]
     },
     "execution_count": 34,
     "metadata": {},
     "output_type": "execute_result"
    }
   ],
   "source": [
    "results"
   ]
  },
  {
   "cell_type": "code",
   "execution_count": 36,
   "metadata": {},
   "outputs": [
    {
     "data": {
      "text/html": [
       "<div>\n",
       "<style scoped>\n",
       "    .dataframe tbody tr th:only-of-type {\n",
       "        vertical-align: middle;\n",
       "    }\n",
       "\n",
       "    .dataframe tbody tr th {\n",
       "        vertical-align: top;\n",
       "    }\n",
       "\n",
       "    .dataframe thead th {\n",
       "        text-align: right;\n",
       "    }\n",
       "</style>\n",
       "<table border=\"1\" class=\"dataframe\">\n",
       "  <thead>\n",
       "    <tr style=\"text-align: right;\">\n",
       "      <th></th>\n",
       "      <th>wanted</th>\n",
       "      <th>title</th>\n",
       "      <th>urls</th>\n",
       "      <th>html</th>\n",
       "      <th>text</th>\n",
       "    </tr>\n",
       "  </thead>\n",
       "  <tbody>\n",
       "    <tr>\n",
       "      <th>0</th>\n",
       "      <td>n</td>\n",
       "      <td>The Pogues frontman's star-studded 60th birthday</td>\n",
       "      <td>http://www.bbc.co.uk/news/world-europe-42701430</td>\n",
       "      <td>The man who brought punk and Irish folk together, turned 60 with a star-studded concert.</td>\n",
       "      <td>The man who brought punk and Irish folk together, turned 60 with a star-studded concert.</td>\n",
       "    </tr>\n",
       "    <tr>\n",
       "      <th>1</th>\n",
       "      <td>y</td>\n",
       "      <td>John Worboys: Rapist's jail move bid refused in 2015</td>\n",
       "      <td>http://www.bbc.co.uk/news/uk-42700475</td>\n",
       "      <td>Parole Board confirms it denied open jail transfer two years before ruling it was safe to free rapist.</td>\n",
       "      <td>Parole Board confirms it denied open jail transfer two years before ruling it was safe to free rapist.</td>\n",
       "    </tr>\n",
       "    <tr>\n",
       "      <th>2</th>\n",
       "      <td>y</td>\n",
       "      <td>Syrian opposition calls on Trump and EU to put pressure on Russia and Iran</td>\n",
       "      <td>http://www.reuters.com/article/us-mideast-crisis-syria-opposition/syrian-opposition-calls-on-trump-and-eu-to-put-pressure-on-russia-and-iran-idUSKBN1F51LO?feedType=RSS&amp;feedName=worldNews</td>\n",
       "      <td>LONDON (Reuters) - U.S. President Donald Trump and European Union leaders should increase the pressure on President Bashar al-Assad and his allies Russia and Iran to return to talks to end Syria's...</td>\n",
       "      <td>LONDON (Reuters) - U.S. President Donald Trump and European Union leaders should increase the pressure on President Bashar al-Assad and his allies Russia and Iran to return to talks to end Syria's...</td>\n",
       "    </tr>\n",
       "    <tr>\n",
       "      <th>3</th>\n",
       "      <td>y</td>\n",
       "      <td>Does MP Sir Desmond Swayne nod off in Ken Clarke's speech?</td>\n",
       "      <td>http://www.bbc.co.uk/news/uk-politics-42708212</td>\n",
       "      <td>Does MP Sir Desmond Swayne nod off during Ken Clarke's speech on the EU Withdrawal Bill?</td>\n",
       "      <td>Does MP Sir Desmond Swayne nod off during Ken Clarke's speech on the EU Withdrawal Bill?</td>\n",
       "    </tr>\n",
       "    <tr>\n",
       "      <th>4</th>\n",
       "      <td>y</td>\n",
       "      <td>England's first 'prisoner of war' discovered</td>\n",
       "      <td>http://www.bbc.co.uk/news/education-42690437</td>\n",
       "      <td>A French aristocrat, captured in 1357, was England's earliest official \"prisoner of war\", say historians.</td>\n",
       "      <td>A French aristocrat, captured in 1357, was England's earliest official \"prisoner of war\", say historians.</td>\n",
       "    </tr>\n",
       "  </tbody>\n",
       "</table>\n",
       "</div>"
      ],
      "text/plain": [
       "  wanted  \\\n",
       "0      n   \n",
       "1      y   \n",
       "2      y   \n",
       "3      y   \n",
       "4      y   \n",
       "\n",
       "                                                                        title  \\\n",
       "0                            The Pogues frontman's star-studded 60th birthday   \n",
       "1                        John Worboys: Rapist's jail move bid refused in 2015   \n",
       "2  Syrian opposition calls on Trump and EU to put pressure on Russia and Iran   \n",
       "3                  Does MP Sir Desmond Swayne nod off in Ken Clarke's speech?   \n",
       "4                                England's first 'prisoner of war' discovered   \n",
       "\n",
       "                                                                                                                                                                                         urls  \\\n",
       "0                                                                                                                                             http://www.bbc.co.uk/news/world-europe-42701430   \n",
       "1                                                                                                                                                       http://www.bbc.co.uk/news/uk-42700475   \n",
       "2  http://www.reuters.com/article/us-mideast-crisis-syria-opposition/syrian-opposition-calls-on-trump-and-eu-to-put-pressure-on-russia-and-iran-idUSKBN1F51LO?feedType=RSS&feedName=worldNews   \n",
       "3                                                                                                                                              http://www.bbc.co.uk/news/uk-politics-42708212   \n",
       "4                                                                                                                                                http://www.bbc.co.uk/news/education-42690437   \n",
       "\n",
       "                                                                                                                                                                                                      html  \\\n",
       "0                                                                                                                 The man who brought punk and Irish folk together, turned 60 with a star-studded concert.   \n",
       "1                                                                                                   Parole Board confirms it denied open jail transfer two years before ruling it was safe to free rapist.   \n",
       "2  LONDON (Reuters) - U.S. President Donald Trump and European Union leaders should increase the pressure on President Bashar al-Assad and his allies Russia and Iran to return to talks to end Syria's...   \n",
       "3                                                                                                                 Does MP Sir Desmond Swayne nod off during Ken Clarke's speech on the EU Withdrawal Bill?   \n",
       "4                                                                                                A French aristocrat, captured in 1357, was England's earliest official \"prisoner of war\", say historians.   \n",
       "\n",
       "                                                                                                                                                                                                      text  \n",
       "0                                                                                                                 The man who brought punk and Irish folk together, turned 60 with a star-studded concert.  \n",
       "1                                                                                                   Parole Board confirms it denied open jail transfer two years before ruling it was safe to free rapist.  \n",
       "2  LONDON (Reuters) - U.S. President Donald Trump and European Union leaders should increase the pressure on President Bashar al-Assad and his allies Russia and Iran to return to talks to end Syria's...  \n",
       "3                                                                                                                 Does MP Sir Desmond Swayne nod off during Ken Clarke's speech on the EU Withdrawal Bill?  \n",
       "4                                                                                                A French aristocrat, captured in 1357, was England's earliest official \"prisoner of war\", say historians.  "
      ]
     },
     "execution_count": 36,
     "metadata": {},
     "output_type": "execute_result"
    }
   ],
   "source": [
    "rez = pd.merge(results, articles_df, left_index=True, right_index=True)\n",
    "rez"
   ]
  },
  {
   "cell_type": "markdown",
   "metadata": {},
   "source": [
    "### Tune the Model"
   ]
  },
  {
   "cell_type": "code",
   "execution_count": 37,
   "metadata": {
    "collapsed": true
   },
   "outputs": [],
   "source": [
    "# Hypothetical correction method\n",
    "change_to_no = [1, 3, 4]\n",
    "\n",
    "change_to_yes = []"
   ]
  },
  {
   "cell_type": "code",
   "execution_count": 38,
   "metadata": {},
   "outputs": [
    {
     "data": {
      "text/html": [
       "<div>\n",
       "<style scoped>\n",
       "    .dataframe tbody tr th:only-of-type {\n",
       "        vertical-align: middle;\n",
       "    }\n",
       "\n",
       "    .dataframe tbody tr th {\n",
       "        vertical-align: top;\n",
       "    }\n",
       "\n",
       "    .dataframe thead th {\n",
       "        text-align: right;\n",
       "    }\n",
       "</style>\n",
       "<table border=\"1\" class=\"dataframe\">\n",
       "  <thead>\n",
       "    <tr style=\"text-align: right;\">\n",
       "      <th></th>\n",
       "      <th>wanted</th>\n",
       "      <th>title</th>\n",
       "      <th>urls</th>\n",
       "      <th>html</th>\n",
       "      <th>text</th>\n",
       "    </tr>\n",
       "  </thead>\n",
       "  <tbody>\n",
       "    <tr>\n",
       "      <th>0</th>\n",
       "      <td>n</td>\n",
       "      <td>The Pogues frontman's star-studded 60th birthday</td>\n",
       "      <td>http://www.bbc.co.uk/news/world-europe-42701430</td>\n",
       "      <td>The man who brought punk and Irish folk together, turned 60 with a star-studded concert.</td>\n",
       "      <td>The man who brought punk and Irish folk together, turned 60 with a star-studded concert.</td>\n",
       "    </tr>\n",
       "    <tr>\n",
       "      <th>1</th>\n",
       "      <td>n</td>\n",
       "      <td>John Worboys: Rapist's jail move bid refused in 2015</td>\n",
       "      <td>http://www.bbc.co.uk/news/uk-42700475</td>\n",
       "      <td>Parole Board confirms it denied open jail transfer two years before ruling it was safe to free rapist.</td>\n",
       "      <td>Parole Board confirms it denied open jail transfer two years before ruling it was safe to free rapist.</td>\n",
       "    </tr>\n",
       "    <tr>\n",
       "      <th>2</th>\n",
       "      <td>y</td>\n",
       "      <td>Syrian opposition calls on Trump and EU to put pressure on Russia and Iran</td>\n",
       "      <td>http://www.reuters.com/article/us-mideast-crisis-syria-opposition/syrian-opposition-calls-on-trump-and-eu-to-put-pressure-on-russia-and-iran-idUSKBN1F51LO?feedType=RSS&amp;feedName=worldNews</td>\n",
       "      <td>LONDON (Reuters) - U.S. President Donald Trump and European Union leaders should increase the pressure on President Bashar al-Assad and his allies Russia and Iran to return to talks to end Syria's...</td>\n",
       "      <td>LONDON (Reuters) - U.S. President Donald Trump and European Union leaders should increase the pressure on President Bashar al-Assad and his allies Russia and Iran to return to talks to end Syria's...</td>\n",
       "    </tr>\n",
       "    <tr>\n",
       "      <th>3</th>\n",
       "      <td>n</td>\n",
       "      <td>Does MP Sir Desmond Swayne nod off in Ken Clarke's speech?</td>\n",
       "      <td>http://www.bbc.co.uk/news/uk-politics-42708212</td>\n",
       "      <td>Does MP Sir Desmond Swayne nod off during Ken Clarke's speech on the EU Withdrawal Bill?</td>\n",
       "      <td>Does MP Sir Desmond Swayne nod off during Ken Clarke's speech on the EU Withdrawal Bill?</td>\n",
       "    </tr>\n",
       "    <tr>\n",
       "      <th>4</th>\n",
       "      <td>n</td>\n",
       "      <td>England's first 'prisoner of war' discovered</td>\n",
       "      <td>http://www.bbc.co.uk/news/education-42690437</td>\n",
       "      <td>A French aristocrat, captured in 1357, was England's earliest official \"prisoner of war\", say historians.</td>\n",
       "      <td>A French aristocrat, captured in 1357, was England's earliest official \"prisoner of war\", say historians.</td>\n",
       "    </tr>\n",
       "  </tbody>\n",
       "</table>\n",
       "</div>"
      ],
      "text/plain": [
       "  wanted  \\\n",
       "0      n   \n",
       "1      n   \n",
       "2      y   \n",
       "3      n   \n",
       "4      n   \n",
       "\n",
       "                                                                        title  \\\n",
       "0                            The Pogues frontman's star-studded 60th birthday   \n",
       "1                        John Worboys: Rapist's jail move bid refused in 2015   \n",
       "2  Syrian opposition calls on Trump and EU to put pressure on Russia and Iran   \n",
       "3                  Does MP Sir Desmond Swayne nod off in Ken Clarke's speech?   \n",
       "4                                England's first 'prisoner of war' discovered   \n",
       "\n",
       "                                                                                                                                                                                         urls  \\\n",
       "0                                                                                                                                             http://www.bbc.co.uk/news/world-europe-42701430   \n",
       "1                                                                                                                                                       http://www.bbc.co.uk/news/uk-42700475   \n",
       "2  http://www.reuters.com/article/us-mideast-crisis-syria-opposition/syrian-opposition-calls-on-trump-and-eu-to-put-pressure-on-russia-and-iran-idUSKBN1F51LO?feedType=RSS&feedName=worldNews   \n",
       "3                                                                                                                                              http://www.bbc.co.uk/news/uk-politics-42708212   \n",
       "4                                                                                                                                                http://www.bbc.co.uk/news/education-42690437   \n",
       "\n",
       "                                                                                                                                                                                                      html  \\\n",
       "0                                                                                                                 The man who brought punk and Irish folk together, turned 60 with a star-studded concert.   \n",
       "1                                                                                                   Parole Board confirms it denied open jail transfer two years before ruling it was safe to free rapist.   \n",
       "2  LONDON (Reuters) - U.S. President Donald Trump and European Union leaders should increase the pressure on President Bashar al-Assad and his allies Russia and Iran to return to talks to end Syria's...   \n",
       "3                                                                                                                 Does MP Sir Desmond Swayne nod off during Ken Clarke's speech on the EU Withdrawal Bill?   \n",
       "4                                                                                                A French aristocrat, captured in 1357, was England's earliest official \"prisoner of war\", say historians.   \n",
       "\n",
       "                                                                                                                                                                                                      text  \n",
       "0                                                                                                                 The man who brought punk and Irish folk together, turned 60 with a star-studded concert.  \n",
       "1                                                                                                   Parole Board confirms it denied open jail transfer two years before ruling it was safe to free rapist.  \n",
       "2  LONDON (Reuters) - U.S. President Donald Trump and European Union leaders should increase the pressure on President Bashar al-Assad and his allies Russia and Iran to return to talks to end Syria's...  \n",
       "3                                                                                                                 Does MP Sir Desmond Swayne nod off during Ken Clarke's speech on the EU Withdrawal Bill?  \n",
       "4                                                                                                A French aristocrat, captured in 1357, was England's earliest official \"prisoner of war\", say historians.  "
      ]
     },
     "execution_count": 38,
     "metadata": {},
     "output_type": "execute_result"
    }
   ],
   "source": [
    "for i in rez.iloc[change_to_yes].index:\n",
    "    rez.iloc[i]['wanted'] = 'y'\n",
    "for i in rez.iloc[change_to_no].index:\n",
    "    rez.iloc[i]['wanted'] = 'n'\n",
    "rez"
   ]
  },
  {
   "cell_type": "code",
   "execution_count": 39,
   "metadata": {},
   "outputs": [
    {
     "data": {
      "text/html": [
       "<div>\n",
       "<style scoped>\n",
       "    .dataframe tbody tr th:only-of-type {\n",
       "        vertical-align: middle;\n",
       "    }\n",
       "\n",
       "    .dataframe tbody tr th {\n",
       "        vertical-align: top;\n",
       "    }\n",
       "\n",
       "    .dataframe thead th {\n",
       "        text-align: right;\n",
       "    }\n",
       "</style>\n",
       "<table border=\"1\" class=\"dataframe\">\n",
       "  <thead>\n",
       "    <tr style=\"text-align: right;\">\n",
       "      <th></th>\n",
       "      <th>wanted</th>\n",
       "      <th>text</th>\n",
       "    </tr>\n",
       "  </thead>\n",
       "  <tbody>\n",
       "    <tr>\n",
       "      <th>0</th>\n",
       "      <td>y</td>\n",
       "      <td>Employers need to do more to \"normalise conversations\" about the menopause in the workplace, say experts.The comments came after a BBC survey found 70% of respondents did not tell their bosses the...</td>\n",
       "    </tr>\n",
       "    <tr>\n",
       "      <th>1</th>\n",
       "      <td>y</td>\n",
       "      <td>SpyPi is the result of my high school graduation work that I've created with the intention to provide a different way to make data security/protection a subject of discussion, especially in class....</td>\n",
       "    </tr>\n",
       "    <tr>\n",
       "      <th>2</th>\n",
       "      <td>y</td>\n",
       "      <td>From a culinary standpoint, Christmas means two things: cookies, and CANDY. While a lot of us think “fudge” when we think Christmas candy, for us today, it means caramels! (Anybody else grow up wi...</td>\n",
       "    </tr>\n",
       "    <tr>\n",
       "      <th>3</th>\n",
       "      <td>y</td>\n",
       "      <td></td>\n",
       "    </tr>\n",
       "    <tr>\n",
       "      <th>4</th>\n",
       "      <td>y</td>\n",
       "      <td>Supermarket chain Iceland has said it will eliminate or drastically reduce plastic packaging of all its own-label products by the end of 2023. Iceland says the move will affect more than a thousan...</td>\n",
       "    </tr>\n",
       "    <tr>\n",
       "      <th>5</th>\n",
       "      <td>y</td>\n",
       "      <td>\"This song's our cry against man's inhumanity to man; and man's inhumanity to child.\" - Dolores O'Riordan.After The Cranberries' debut album, people thought they had the band sussed out. The Limer...</td>\n",
       "    </tr>\n",
       "    <tr>\n",
       "      <th>6</th>\n",
       "      <td>y</td>\n",
       "      <td></td>\n",
       "    </tr>\n",
       "    <tr>\n",
       "      <th>7</th>\n",
       "      <td>y</td>\n",
       "      <td>Fast food giant McDonald's has said all its packaging worldwide will come from sustainable sources by 2025. The restaurant chain will aim to get all items like bags, straws, wrappers and cups from...</td>\n",
       "    </tr>\n",
       "    <tr>\n",
       "      <th>8</th>\n",
       "      <td>y</td>\n",
       "      <td>A former friend of Newsnight presenter Emily Maitlis, who harassed her for two decades, has been jailed for contacting her from prison.Edward Vines, 47, was behind bars and later out on licence, w...</td>\n",
       "    </tr>\n",
       "    <tr>\n",
       "      <th>9</th>\n",
       "      <td>y</td>\n",
       "      <td>The controversial claim that the UK sends £350m a week to the EU was a \"gross underestimate\", Foreign Secretary Boris Johnson has said.Vote Leave's claim that £350m could go to the NHS instead was...</td>\n",
       "    </tr>\n",
       "    <tr>\n",
       "      <th>10</th>\n",
       "      <td>y</td>\n",
       "      <td>The Africa Technology Business Network is a social enterprise and global network focused on driving growth and impact in the African technology ecosystem. We help to generate investment into the A...</td>\n",
       "    </tr>\n",
       "    <tr>\n",
       "      <th>11</th>\n",
       "      <td>y</td>\n",
       "      <td>MANILA (Reuters) - The office of Philippine leader Rodrigo Duterte sought to distance itself on Tuesday from a regulator’s decision to revoke the license of a prominent news site, rebuffing allega...</td>\n",
       "    </tr>\n",
       "    <tr>\n",
       "      <th>12</th>\n",
       "      <td>y</td>\n",
       "      <td></td>\n",
       "    </tr>\n",
       "    <tr>\n",
       "      <th>13</th>\n",
       "      <td>y</td>\n",
       "      <td>An Australian teenager has been found alive in a car wreck after his father made an intuitive decision to search for him in a helicopter.Samuel Lethbridge, 17, was trapped for 30 hours after his c...</td>\n",
       "    </tr>\n",
       "    <tr>\n",
       "      <th>14</th>\n",
       "      <td>y</td>\n",
       "      <td>\\nTo figure out if hard disks are hackable, I first had to get to know\\nthem better. Luckily, like most of you, I had a whole stack of old \\nand/or broken hard disks to look at:\\n\\n\\nOfcourse, we ...</td>\n",
       "    </tr>\n",
       "    <tr>\n",
       "      <th>15</th>\n",
       "      <td>y</td>\n",
       "      <td>In March 2017, Theresa May triggered Article 50, the start of the two-year negotiation period to take Britain out of the EU. This picture was taken that week as ramblers explored the Seven Sisters...</td>\n",
       "    </tr>\n",
       "    <tr>\n",
       "      <th>16</th>\n",
       "      <td>y</td>\n",
       "      <td>Tesco has made changes to its Clubcard loyalty scheme - dropping the value of some rewards and raising some others.Shoppers collect points for money spent with the supermarket giant and these then...</td>\n",
       "    </tr>\n",
       "    <tr>\n",
       "      <th>17</th>\n",
       "      <td>y</td>\n",
       "      <td>Coral inspired, blood wood carving – This is not a stain, this is the wood’s natural color with a shellac finish. Absolutely stunning!</td>\n",
       "    </tr>\n",
       "    <tr>\n",
       "      <th>18</th>\n",
       "      <td>y</td>\n",
       "      <td>The aircraft is to be decommissioned after almost 40 years in service.Four remaining Mk9 Lynx left from RAF Odiham in Hampshire on an aerial tour taking in military bases and locations associated ...</td>\n",
       "    </tr>\n",
       "    <tr>\n",
       "      <th>19</th>\n",
       "      <td>y</td>\n",
       "      <td>Mr Parry told BBC's Good Morning Ulster programme he had been touched by the lyrics but had not known their significance until after the singer's death. \"Only yesterday did I discover that her gro...</td>\n",
       "    </tr>\n",
       "    <tr>\n",
       "      <th>20</th>\n",
       "      <td>y</td>\n",
       "      <td>JAKARTA (Reuters) - A huge fire destroyed most of a Dutch colonial heritage site dating back to the 17th century, including a maritime museum, in the north of the capital Jakarta on Tuesday.      ...</td>\n",
       "    </tr>\n",
       "    <tr>\n",
       "      <th>21</th>\n",
       "      <td>y</td>\n",
       "      <td>\\n                This website uses cookies. By continuing to browse EnglandRugby.com you are agreeing to our use of cookies. Find out more by viewing our privacy and cookie policy.\\n</td>\n",
       "    </tr>\n",
       "    <tr>\n",
       "      <th>22</th>\n",
       "      <td>y</td>\n",
       "      <td>SANTIAGO (Reuters) - Pope Francis arrived in Chile on Monday to start a trip aimed at  bolstering the credibility of a local Church battered by a sexual abuse crisis. Tens of thousands of people c...</td>\n",
       "    </tr>\n",
       "    <tr>\n",
       "      <th>23</th>\n",
       "      <td>y</td>\n",
       "      <td>SINGAPORE (Reuters) - Singapore and Malaysia vowed on Tuesday to push ahead with two ambitious rail projects linking the two countries as Malaysian Prime Minister Najib Razak played down political...</td>\n",
       "    </tr>\n",
       "    <tr>\n",
       "      <th>24</th>\n",
       "      <td>y</td>\n",
       "      <td></td>\n",
       "    </tr>\n",
       "    <tr>\n",
       "      <th>25</th>\n",
       "      <td>y</td>\n",
       "      <td></td>\n",
       "    </tr>\n",
       "    <tr>\n",
       "      <th>26</th>\n",
       "      <td>y</td>\n",
       "      <td>STRASBOURG (Reuters) - Leaders of the European Union institutions weighed into a new British debate on whether to hold a second referendum on Brexit by saying on Tuesday that Britons would be welc...</td>\n",
       "    </tr>\n",
       "    <tr>\n",
       "      <th>27</th>\n",
       "      <td>y</td>\n",
       "      <td>For all the buzz and political intrigue, North Korea's participation at next month's Winter Olympics in Pyeongchang will live up to the old saying: \"It's the taking part that counts\". Their repres...</td>\n",
       "    </tr>\n",
       "    <tr>\n",
       "      <th>28</th>\n",
       "      <td>y</td>\n",
       "      <td></td>\n",
       "    </tr>\n",
       "    <tr>\n",
       "      <th>29</th>\n",
       "      <td>y</td>\n",
       "      <td>Stifling a sneeze by clamping your nose and mouth shut can cause serious physical damage, doctors are warning.Medics in Leicester treated a 34-year-old man who ruptured his throat while trying to ...</td>\n",
       "    </tr>\n",
       "    <tr>\n",
       "      <th>...</th>\n",
       "      <td>...</td>\n",
       "      <td>...</td>\n",
       "    </tr>\n",
       "    <tr>\n",
       "      <th>42</th>\n",
       "      <td>n</td>\n",
       "      <td>Firms working for failed construction giant Carillion on purely private sector deals will only have two days of government support, Cabinet Office Minister David Lidington has warned.Carillion spe...</td>\n",
       "    </tr>\n",
       "    <tr>\n",
       "      <th>43</th>\n",
       "      <td>n</td>\n",
       "      <td></td>\n",
       "    </tr>\n",
       "    <tr>\n",
       "      <th>44</th>\n",
       "      <td>n</td>\n",
       "      <td>\\nExploratory Data Analysis: intuition-oriented analysis by networks manipulations in real time.\\nLink Analysis: revealing the underlying structures of associations between objects.\\nSocial Networ...</td>\n",
       "    </tr>\n",
       "    <tr>\n",
       "      <th>45</th>\n",
       "      <td>n</td>\n",
       "      <td>A California couple have been arrested after police found their 13 children allegedly held captive at home, some \"shackled to their beds with chains and padlocks\".David Allen Turpin, 57, and Louis...</td>\n",
       "    </tr>\n",
       "    <tr>\n",
       "      <th>46</th>\n",
       "      <td>n</td>\n",
       "      <td></td>\n",
       "    </tr>\n",
       "    <tr>\n",
       "      <th>47</th>\n",
       "      <td>n</td>\n",
       "      <td>The demise of Carillion, Britain's second largest construction firm, features on almost all of Tuesday's front pages.The Times leads on the potential cost to the taxpayer of the collapse, saying t...</td>\n",
       "    </tr>\n",
       "    <tr>\n",
       "      <th>48</th>\n",
       "      <td>n</td>\n",
       "      <td></td>\n",
       "    </tr>\n",
       "    <tr>\n",
       "      <th>49</th>\n",
       "      <td>n</td>\n",
       "      <td>Editor’s note: The story below contains two slurs that appear in the names of subreddits. Links to Reddit may also contain offensive material.The subreddit, where posters refer to President Trump ...</td>\n",
       "    </tr>\n",
       "    <tr>\n",
       "      <th>50</th>\n",
       "      <td>n</td>\n",
       "      <td>Big Ben and Heathrow Airport were among landmarks targeted by a British man who was \"fascinated\" by the so-called Islamic State, a court has heard.Umar Ahmed Haque, 25, from east London, denies pr...</td>\n",
       "    </tr>\n",
       "    <tr>\n",
       "      <th>51</th>\n",
       "      <td>n</td>\n",
       "      <td>The zombie policy of the universal basic income is the first to rise from the grave of well-intentioned impractical ideas in 2017. Labour-controlled Glasgow city council is the latest to announce ...</td>\n",
       "    </tr>\n",
       "    <tr>\n",
       "      <th>52</th>\n",
       "      <td>n</td>\n",
       "      <td></td>\n",
       "    </tr>\n",
       "    <tr>\n",
       "      <th>53</th>\n",
       "      <td>n</td>\n",
       "      <td></td>\n",
       "    </tr>\n",
       "    <tr>\n",
       "      <th>54</th>\n",
       "      <td>n</td>\n",
       "      <td>\\nThis means you're free to copy and share these comics (but not to sell them). More details.</td>\n",
       "    </tr>\n",
       "    <tr>\n",
       "      <th>55</th>\n",
       "      <td>n</td>\n",
       "      <td>Weather warnings have been upgraded as snow and ice continue to affect large parts of Scotland.The Met Office issued an amber alert for south west Scotland, extending to parts of the central belt,...</td>\n",
       "    </tr>\n",
       "    <tr>\n",
       "      <th>56</th>\n",
       "      <td>n</td>\n",
       "      <td></td>\n",
       "    </tr>\n",
       "    <tr>\n",
       "      <th>57</th>\n",
       "      <td>n</td>\n",
       "      <td>The government has ordered a fast-track investigation into directors at the failed construction firm Carillion.The UK's second biggest construction firm went into liquidation on Monday, after runn...</td>\n",
       "    </tr>\n",
       "    <tr>\n",
       "      <th>58</th>\n",
       "      <td>n</td>\n",
       "      <td></td>\n",
       "    </tr>\n",
       "    <tr>\n",
       "      <th>59</th>\n",
       "      <td>n</td>\n",
       "      <td>The American gospel music star Edwin Hawkins has died at his home in California, at the age of 74.The Grammy-winning singer had been suffering from pancreatic cancer, his publicist said.Hawkins wa...</td>\n",
       "    </tr>\n",
       "    <tr>\n",
       "      <th>60</th>\n",
       "      <td>n</td>\n",
       "      <td></td>\n",
       "    </tr>\n",
       "    <tr>\n",
       "      <th>61</th>\n",
       "      <td>n</td>\n",
       "      <td>Whether it's brake lights on the M62 as far as the eye can see or standing room only on crammed trains, commuting between cities is an often painful experience in the north of England. As campaign...</td>\n",
       "    </tr>\n",
       "    <tr>\n",
       "      <th>62</th>\n",
       "      <td>n</td>\n",
       "      <td>Selvarani Kanagarasu, a daily wage labourer from the south Indian state of Tamil Nadu, has shunned marriage so that she can take care of a prize-fighting bull. BBC Tamil's Pramila Krishnan talks t...</td>\n",
       "    </tr>\n",
       "    <tr>\n",
       "      <th>63</th>\n",
       "      <td>n</td>\n",
       "      <td>CALAIS, France (Reuters) - French President Emmanuel Macron visited a migrant reception centre and quizzed refugees in Calais on Tuesday, taking stock of the pressure on the Channel port ahead of ...</td>\n",
       "    </tr>\n",
       "    <tr>\n",
       "      <th>65</th>\n",
       "      <td>n</td>\n",
       "      <td>The death of Cranberries singer Dolores O'Riordan is not being treated as suspicious by the Metropolitan Police.Police also confirmed a report was being compiled ready to hand to the coroner's off...</td>\n",
       "    </tr>\n",
       "    <tr>\n",
       "      <th>66</th>\n",
       "      <td>n</td>\n",
       "      <td>SANTIAGO (Reuters) - Pope Francis expressed his “pain and shame” on Tuesday over a sexual abuse scandal in the Catholic Church in Chile, seeking forgiveness for a crisis that has scarred its credi...</td>\n",
       "    </tr>\n",
       "    <tr>\n",
       "      <th>67</th>\n",
       "      <td>n</td>\n",
       "      <td>Just Eat offered a £10 voucher to a woman who complained a delivery driver sent her unwanted messages.Michelle Midwinter posted screenshots of the conversation on Twitter in which the man appears ...</td>\n",
       "    </tr>\n",
       "    <tr>\n",
       "      <th>0</th>\n",
       "      <td>n</td>\n",
       "      <td>The man who brought punk and Irish folk together, turned 60 with a star-studded concert.</td>\n",
       "    </tr>\n",
       "    <tr>\n",
       "      <th>1</th>\n",
       "      <td>n</td>\n",
       "      <td>Parole Board confirms it denied open jail transfer two years before ruling it was safe to free rapist.</td>\n",
       "    </tr>\n",
       "    <tr>\n",
       "      <th>2</th>\n",
       "      <td>y</td>\n",
       "      <td>LONDON (Reuters) - U.S. President Donald Trump and European Union leaders should increase the pressure on President Bashar al-Assad and his allies Russia and Iran to return to talks to end Syria's...</td>\n",
       "    </tr>\n",
       "    <tr>\n",
       "      <th>3</th>\n",
       "      <td>n</td>\n",
       "      <td>Does MP Sir Desmond Swayne nod off during Ken Clarke's speech on the EU Withdrawal Bill?</td>\n",
       "    </tr>\n",
       "    <tr>\n",
       "      <th>4</th>\n",
       "      <td>n</td>\n",
       "      <td>A French aristocrat, captured in 1357, was England's earliest official \"prisoner of war\", say historians.</td>\n",
       "    </tr>\n",
       "  </tbody>\n",
       "</table>\n",
       "<p>149 rows × 2 columns</p>\n",
       "</div>"
      ],
      "text/plain": [
       "   wanted  \\\n",
       "0       y   \n",
       "1       y   \n",
       "2       y   \n",
       "3       y   \n",
       "4       y   \n",
       "5       y   \n",
       "6       y   \n",
       "7       y   \n",
       "8       y   \n",
       "9       y   \n",
       "10      y   \n",
       "11      y   \n",
       "12      y   \n",
       "13      y   \n",
       "14      y   \n",
       "15      y   \n",
       "16      y   \n",
       "17      y   \n",
       "18      y   \n",
       "19      y   \n",
       "20      y   \n",
       "21      y   \n",
       "22      y   \n",
       "23      y   \n",
       "24      y   \n",
       "25      y   \n",
       "26      y   \n",
       "27      y   \n",
       "28      y   \n",
       "29      y   \n",
       "..    ...   \n",
       "42      n   \n",
       "43      n   \n",
       "44      n   \n",
       "45      n   \n",
       "46      n   \n",
       "47      n   \n",
       "48      n   \n",
       "49      n   \n",
       "50      n   \n",
       "51      n   \n",
       "52      n   \n",
       "53      n   \n",
       "54      n   \n",
       "55      n   \n",
       "56      n   \n",
       "57      n   \n",
       "58      n   \n",
       "59      n   \n",
       "60      n   \n",
       "61      n   \n",
       "62      n   \n",
       "63      n   \n",
       "65      n   \n",
       "66      n   \n",
       "67      n   \n",
       "0       n   \n",
       "1       n   \n",
       "2       y   \n",
       "3       n   \n",
       "4       n   \n",
       "\n",
       "                                                                                                                                                                                                       text  \n",
       "0   Employers need to do more to \"normalise conversations\" about the menopause in the workplace, say experts.The comments came after a BBC survey found 70% of respondents did not tell their bosses the...  \n",
       "1   SpyPi is the result of my high school graduation work that I've created with the intention to provide a different way to make data security/protection a subject of discussion, especially in class....  \n",
       "2   From a culinary standpoint, Christmas means two things: cookies, and CANDY. While a lot of us think “fudge” when we think Christmas candy, for us today, it means caramels! (Anybody else grow up wi...  \n",
       "3                                                                                                                                                                                                            \n",
       "4   Supermarket chain Iceland has said it will eliminate or drastically reduce plastic packaging of all its own-label products by the end of 2023. Iceland says the move will affect more than a thousan...  \n",
       "5   \"This song's our cry against man's inhumanity to man; and man's inhumanity to child.\" - Dolores O'Riordan.After The Cranberries' debut album, people thought they had the band sussed out. The Limer...  \n",
       "6                                                                                                                                                                                                            \n",
       "7   Fast food giant McDonald's has said all its packaging worldwide will come from sustainable sources by 2025. The restaurant chain will aim to get all items like bags, straws, wrappers and cups from...  \n",
       "8   A former friend of Newsnight presenter Emily Maitlis, who harassed her for two decades, has been jailed for contacting her from prison.Edward Vines, 47, was behind bars and later out on licence, w...  \n",
       "9   The controversial claim that the UK sends £350m a week to the EU was a \"gross underestimate\", Foreign Secretary Boris Johnson has said.Vote Leave's claim that £350m could go to the NHS instead was...  \n",
       "10  The Africa Technology Business Network is a social enterprise and global network focused on driving growth and impact in the African technology ecosystem. We help to generate investment into the A...  \n",
       "11  MANILA (Reuters) - The office of Philippine leader Rodrigo Duterte sought to distance itself on Tuesday from a regulator’s decision to revoke the license of a prominent news site, rebuffing allega...  \n",
       "12                                                                                                                                                                                                           \n",
       "13  An Australian teenager has been found alive in a car wreck after his father made an intuitive decision to search for him in a helicopter.Samuel Lethbridge, 17, was trapped for 30 hours after his c...  \n",
       "14  \\nTo figure out if hard disks are hackable, I first had to get to know\\nthem better. Luckily, like most of you, I had a whole stack of old \\nand/or broken hard disks to look at:\\n\\n\\nOfcourse, we ...  \n",
       "15  In March 2017, Theresa May triggered Article 50, the start of the two-year negotiation period to take Britain out of the EU. This picture was taken that week as ramblers explored the Seven Sisters...  \n",
       "16  Tesco has made changes to its Clubcard loyalty scheme - dropping the value of some rewards and raising some others.Shoppers collect points for money spent with the supermarket giant and these then...  \n",
       "17                                                                  Coral inspired, blood wood carving – This is not a stain, this is the wood’s natural color with a shellac finish. Absolutely stunning!   \n",
       "18  The aircraft is to be decommissioned after almost 40 years in service.Four remaining Mk9 Lynx left from RAF Odiham in Hampshire on an aerial tour taking in military bases and locations associated ...  \n",
       "19  Mr Parry told BBC's Good Morning Ulster programme he had been touched by the lyrics but had not known their significance until after the singer's death. \"Only yesterday did I discover that her gro...  \n",
       "20  JAKARTA (Reuters) - A huge fire destroyed most of a Dutch colonial heritage site dating back to the 17th century, including a maritime museum, in the north of the capital Jakarta on Tuesday.      ...  \n",
       "21      \\n                This website uses cookies. By continuing to browse EnglandRugby.com you are agreeing to our use of cookies. Find out more by viewing our privacy and cookie policy.\\n              \n",
       "22  SANTIAGO (Reuters) - Pope Francis arrived in Chile on Monday to start a trip aimed at  bolstering the credibility of a local Church battered by a sexual abuse crisis. Tens of thousands of people c...  \n",
       "23  SINGAPORE (Reuters) - Singapore and Malaysia vowed on Tuesday to push ahead with two ambitious rail projects linking the two countries as Malaysian Prime Minister Najib Razak played down political...  \n",
       "24                                                                                                                                                                                                           \n",
       "25                                                                                                                                                                                                           \n",
       "26  STRASBOURG (Reuters) - Leaders of the European Union institutions weighed into a new British debate on whether to hold a second referendum on Brexit by saying on Tuesday that Britons would be welc...  \n",
       "27  For all the buzz and political intrigue, North Korea's participation at next month's Winter Olympics in Pyeongchang will live up to the old saying: \"It's the taking part that counts\". Their repres...  \n",
       "28                                                                                                                                                                                                           \n",
       "29  Stifling a sneeze by clamping your nose and mouth shut can cause serious physical damage, doctors are warning.Medics in Leicester treated a 34-year-old man who ruptured his throat while trying to ...  \n",
       "..                                                                                                                                                                                                      ...  \n",
       "42  Firms working for failed construction giant Carillion on purely private sector deals will only have two days of government support, Cabinet Office Minister David Lidington has warned.Carillion spe...  \n",
       "43                                                                                                                                                                                                           \n",
       "44  \\nExploratory Data Analysis: intuition-oriented analysis by networks manipulations in real time.\\nLink Analysis: revealing the underlying structures of associations between objects.\\nSocial Networ...  \n",
       "45  A California couple have been arrested after police found their 13 children allegedly held captive at home, some \"shackled to their beds with chains and padlocks\".David Allen Turpin, 57, and Louis...  \n",
       "46                                                                                                                                                                                                           \n",
       "47  The demise of Carillion, Britain's second largest construction firm, features on almost all of Tuesday's front pages.The Times leads on the potential cost to the taxpayer of the collapse, saying t...  \n",
       "48                                                                                                                                                                                                           \n",
       "49  Editor’s note: The story below contains two slurs that appear in the names of subreddits. Links to Reddit may also contain offensive material.The subreddit, where posters refer to President Trump ...  \n",
       "50  Big Ben and Heathrow Airport were among landmarks targeted by a British man who was \"fascinated\" by the so-called Islamic State, a court has heard.Umar Ahmed Haque, 25, from east London, denies pr...  \n",
       "51  The zombie policy of the universal basic income is the first to rise from the grave of well-intentioned impractical ideas in 2017. Labour-controlled Glasgow city council is the latest to announce ...  \n",
       "52                                                                                                                                                                                                           \n",
       "53                                                                                                                                                                                                           \n",
       "54                                                                                                            \\nThis means you're free to copy and share these comics (but not to sell them). More details.  \n",
       "55  Weather warnings have been upgraded as snow and ice continue to affect large parts of Scotland.The Met Office issued an amber alert for south west Scotland, extending to parts of the central belt,...  \n",
       "56                                                                                                                                                                                                           \n",
       "57  The government has ordered a fast-track investigation into directors at the failed construction firm Carillion.The UK's second biggest construction firm went into liquidation on Monday, after runn...  \n",
       "58                                                                                                                                                                                                           \n",
       "59  The American gospel music star Edwin Hawkins has died at his home in California, at the age of 74.The Grammy-winning singer had been suffering from pancreatic cancer, his publicist said.Hawkins wa...  \n",
       "60                                                                                                                                                                                                           \n",
       "61  Whether it's brake lights on the M62 as far as the eye can see or standing room only on crammed trains, commuting between cities is an often painful experience in the north of England. As campaign...  \n",
       "62  Selvarani Kanagarasu, a daily wage labourer from the south Indian state of Tamil Nadu, has shunned marriage so that she can take care of a prize-fighting bull. BBC Tamil's Pramila Krishnan talks t...  \n",
       "63  CALAIS, France (Reuters) - French President Emmanuel Macron visited a migrant reception centre and quizzed refugees in Calais on Tuesday, taking stock of the pressure on the Channel port ahead of ...  \n",
       "65  The death of Cranberries singer Dolores O'Riordan is not being treated as suspicious by the Metropolitan Police.Police also confirmed a report was being compiled ready to hand to the coroner's off...  \n",
       "66  SANTIAGO (Reuters) - Pope Francis expressed his “pain and shame” on Tuesday over a sexual abuse scandal in the Catholic Church in Chile, seeking forgiveness for a crisis that has scarred its credi...  \n",
       "67  Just Eat offered a £10 voucher to a woman who complained a delivery driver sent her unwanted messages.Michelle Midwinter posted screenshots of the conversation on Twitter in which the man appears ...  \n",
       "0                                                                                                                  The man who brought punk and Irish folk together, turned 60 with a star-studded concert.  \n",
       "1                                                                                                    Parole Board confirms it denied open jail transfer two years before ruling it was safe to free rapist.  \n",
       "2   LONDON (Reuters) - U.S. President Donald Trump and European Union leaders should increase the pressure on President Bashar al-Assad and his allies Russia and Iran to return to talks to end Syria's...  \n",
       "3                                                                                                                  Does MP Sir Desmond Swayne nod off during Ken Clarke's speech on the EU Withdrawal Bill?  \n",
       "4                                                                                                 A French aristocrat, captured in 1357, was England's earliest official \"prisoner of war\", say historians.  \n",
       "\n",
       "[149 rows x 2 columns]"
      ]
     },
     "execution_count": 39,
     "metadata": {},
     "output_type": "execute_result"
    }
   ],
   "source": [
    "combined = pd.concat([df[['wanted', 'text']], rez[['wanted', 'text']]])\n",
    "combined"
   ]
  },
  {
   "cell_type": "code",
   "execution_count": 40,
   "metadata": {
    "collapsed": true
   },
   "outputs": [],
   "source": [
    "# Rebuild model with new data\n",
    "tvcomb = vect.fit_transform(combined['text'], combined['wanted'])\n",
    "model = clf.fit(tvcomb, combined['wanted'])\n",
    "# Iterate this process"
   ]
  },
  {
   "cell_type": "markdown",
   "metadata": {},
   "source": [
    "### Output the Model to Pickle"
   ]
  },
  {
   "cell_type": "code",
   "execution_count": 41,
   "metadata": {
    "collapsed": true
   },
   "outputs": [],
   "source": [
    "import pickle\n",
    "pickle.dump(model, open(r'news_model_pickle.pkl', 'wb'))\n",
    "pickle.dump(vect, open(r'news_vect_pickle.pkl', 'wb'))"
   ]
  },
  {
   "cell_type": "markdown",
   "metadata": {
    "collapsed": true
   },
   "source": [
    "## TODO\n",
    "\n",
    "- ~~Add news article to supervised dataset~~\n",
    "- ~~More articles in supervised dataset~~\n",
    "- Flask web app\n",
    "- ~~Add config variables to config file~~\n",
    "- Score top articles rather than simple yes/no\n",
    "- Setup script for email service"
   ]
  },
  {
   "cell_type": "code",
   "execution_count": null,
   "metadata": {
    "collapsed": true
   },
   "outputs": [],
   "source": []
  }
 ],
 "metadata": {
  "kernelspec": {
   "display_name": "Python_3",
   "language": "python",
   "name": "py35"
  },
  "language_info": {
   "codemirror_mode": {
    "name": "ipython",
    "version": 3
   },
   "file_extension": ".py",
   "mimetype": "text/x-python",
   "name": "python",
   "nbconvert_exporter": "python",
   "pygments_lexer": "ipython3",
   "version": "3.5.4"
  },
  "toc": {
   "nav_menu": {},
   "number_sections": true,
   "sideBar": true,
   "skip_h1_title": false,
   "toc_cell": false,
   "toc_position": {},
   "toc_section_display": "block",
   "toc_window_display": false
  }
 },
 "nbformat": 4,
 "nbformat_minor": 2
}
