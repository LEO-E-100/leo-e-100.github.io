{
 "cells": [
  {
   "cell_type": "markdown",
   "metadata": {},
   "source": [
    "# Creating my Website\n",
    "*08-02-2018*\n",
    "\n",
    "My website is a basic static HTML homepage with a jupyter notebook powered blog. Here is a guide to how I built it.\n",
    "\n",
    "## Step 1\n",
    "First step was to create a repo on GitHub with the name formated like this `<GitHub User Name>.github.io`. \n",
    "\n",
    "## Step 2\n",
    "Next I downloaded the twitter bootstrap [resume](https://startbootstrap.com/template-overviews/resume/)\n",
    "\n",
    "## Step 3\n",
    "After looking at the raw HTML in Atom I changed all of the content to my name etc. I also added my profile picture to the img file and in the `nav` tag I changed the file path to this image. \n",
    "\n",
    "Next I changed the 'Awards' heading to 'Blog' and copy and pasted a `<section>` from the Education heading to give a standard format for the blog archive. \n",
    "\n",
    "## Step 4\n",
    "The next step was to properly format my blog articles. For this I decided that a Jupyter Notebook would be the most appropriate format. This would allow me to write articles in notebooks and then convert them to HTML to display on the website. I created a folder in the project directory called 'Notebooks' and 'Posts'. \n",
    "\n",
    "## Step 5\n",
    "In Notebooks I would write my posts and then I wrote a Python script to convert the notebook into formatted HTML with custom CSS and google analytics added so as to track the progress of the page."
   ]
  },
  {
   "cell_type": "code",
   "execution_count": null,
   "metadata": {},
   "outputs": [],
   "source": [
    "# HTML converter code\n",
    "import sys\n",
    "from nbconvert import HTMLExporter\n",
    "import nbformat\n",
    "\n",
    "notebook_file = sys.argv[1]\n",
    "html_exporter = HTMLExporter()\n",
    "nb = nbformat.reads(open(notebook_file, 'r').read(), as_version=4)\n",
    "\n",
    "(body, resources) = html_exporter.from_notebook_node(nb)\n",
    "\n",
    "\n",
    "read_css = open(\"main_css.txt\", 'r').read()\n",
    "read_ga = open(\"google_analytics.txt\",\"r\").read()\n",
    "\n",
    "\n",
    "if read_ga not in body:\n",
    "    body = body.replace(\"</body\", read_ga + \"\\n</body>\")\n",
    "\n",
    "if read_css not in body:\n",
    "    body = body.replace(\"</title>\", \"</title>\\n\" + read_css)\n",
    "\n",
    "html_file = notebook_file.replace(\".ipynb\", \".html\")\n",
    "html_file_writer = open(html_file, 'w')\n",
    "html_file_writer.write(body)\n",
    "html_file_writer.close()"
   ]
  },
  {
   "cell_type": "code",
   "execution_count": null,
   "metadata": {
    "collapsed": true
   },
   "outputs": [],
   "source": [
    "# google_analytics.txt\n",
    "'''\n",
    "<!-- Global site tag (gtag.js) - Google Analytics -->\n",
    "<script async src=\"https://www.googletagmanager.com/gtag/js<unique google code>\"></script>\n",
    "<script>\n",
    "  window.dataLayer = window.dataLayer || [];\n",
    "  function gtag(){dataLayer.push(arguments);}\n",
    "  gtag('js', new Date());\n",
    "\n",
    "  gtag('config', 'UA-111245387-1');\n",
    "</script>\n",
    "'''"
   ]
  },
  {
   "cell_type": "code",
   "execution_count": null,
   "metadata": {
    "collapsed": true
   },
   "outputs": [],
   "source": [
    "# main_css.txt\n",
    "'''\n",
    "<link rel=\"stylesheet\" href=\"../css/main.css\" />\n",
    "'''"
   ]
  },
  {
   "cell_type": "markdown",
   "metadata": {},
   "source": [
    "## Step 6\n",
    "Once all content is sorted it's time to publish. This is a very simple process. Simply commit and push all changes to GitHub. Then go to the repository page on GitHub.com and go to the 'settings' tab across the top. Then go to the 'Github Pages' section and there should be an option to initialise the repo as a GitHub Pages. \n",
    "\n",
    "Now your website is live at `<username>.github.io/`\n",
    "\n",
    "## Step 7\n",
    "Final step is to decide on your custom css for the notebooks. This is a matter of personal preference but it is important to add a `main.css` file to the `css` directory in the project repo. Mine is fairly complex but works very well.\n",
    "\n",
    "## Still to do:\n",
    "I hope to add a nav bar to my jupyter notebook blog so that it is possible to go back to the home page from the notebook. This should be a matter of simply adding a section to the above python script but will be more complex to design aesthetically. "
   ]
  },
  {
   "cell_type": "markdown",
   "metadata": {},
   "source": []
  }
 ],
 "metadata": {
  "kernelspec": {
   "display_name": "GA",
   "language": "python",
   "name": "ga"
  },
  "language_info": {
   "codemirror_mode": {
    "name": "ipython",
    "version": 2
   },
   "file_extension": ".py",
   "mimetype": "text/x-python",
   "name": "python",
   "nbconvert_exporter": "python",
   "pygments_lexer": "ipython2",
   "version": "2.7.14"
  },
  "toc": {
   "nav_menu": {},
   "number_sections": true,
   "sideBar": true,
   "skip_h1_title": false,
   "toc_cell": false,
   "toc_position": {},
   "toc_section_display": "block",
   "toc_window_display": false
  }
 },
 "nbformat": 4,
 "nbformat_minor": 2
}
