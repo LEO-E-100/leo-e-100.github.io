{
 "cells": [
  {
   "cell_type": "markdown",
   "metadata": {},
   "source": [
    "# User Generated Outcomes\n",
    "*24-01-18*"
   ]
  },
  {
   "cell_type": "markdown",
   "metadata": {
    "collapsed": true
   },
   "source": [
    "## Introduction\n",
    "\n",
    "During the 3 months I worked with NHS Digital and Joseph Connor I focussed on one particular problem within the NHS and in particular in finding a technological solution. The problem can be easily described in a single sentence.\n",
    "\n",
    "> It is not currently possible to follow up NHS interactions in order to classify outcomes.\n",
    "\n",
    "This may seem like a very basic function for any institution to carry out in order to validate the work that they do. However it has not been a priority for the NHS. I began the project looking at how other industries have solved this problem. \n",
    "\n",
    "An initial idea was to use a similar technology to the 'Happy or Not' bots. It was quickly decided that these would be highly impractical to install in every hospital, GP and other frontline NHS services. However a technological solution could be found which would operate in a similar way. \n"
   ]
  },
  {
   "cell_type": "markdown",
   "metadata": {},
   "source": [
    "## NHS 111\n",
    "\n",
    "The target for a proof of concept for such a technology was chosen as the NHS 111 service. It became clear after an extensive literature review that there is little to no follow up to NHS 111 calls. After a call has been made and a disposition reached by following the highly structured system for the call. \n",
    "\n",
    "A follow up to the call would be valuable for a number of reasons, the most important of which is that it would provide vital data to validate and potentially improve the service provided by the NHS for the 111 calls.\n",
    "\n",
    "Furthermore a service of follow up is useful as a service to the user since it could include important information which would be helpful (it was decided that a google maps link would be useful)"
   ]
  },
  {
   "cell_type": "markdown",
   "metadata": {},
   "source": [
    "## The project\n",
    "\n",
    "Thus it was decided that the project would involve the mapping out of this service and implementing a proof of concept which would be useful for demonstrating how the service works and how it could be of benefit to the overall NHS infrastructure.\n",
    "\n",
    "After many iterations the system was mapped out. The image below demonstrates how the system would work in theory. \n",
    "\n",
    "![title](../img/User Journey - Activity Diagram.png)"
   ]
  },
  {
   "cell_type": "markdown",
   "metadata": {},
   "source": [
    "### The app\n",
    "\n",
    "The next step was to build this system as an app that could demonstrate its power. For this a flask web app was chosen as the best technology. JavaScript would be used for client side code while the backend would be a REST service built with Flask. "
   ]
  },
  {
   "cell_type": "markdown",
   "metadata": {},
   "source": [
    "### Google Maps API\n",
    "\n",
    "The first step was to design a method of displaying google maps links in a browser using the google maps API. In particular it was a complex business of using the NHS service ID to pin point the actual location. However by scraping the NHS choices site it was found that a database of service IDs included the longitude and latitude which would allow the flask app to find it using REST."
   ]
  },
  {
   "cell_type": "markdown",
   "metadata": {},
   "source": [
    "### A Rating Page\n",
    "\n",
    "Next it was important to design the feedback page. This involved some complex JavaScript to give an aesthetically pleasing landing page for providing ratings as well as conveying the anonymimity that the user would have. "
   ]
  },
  {
   "cell_type": "markdown",
   "metadata": {},
   "source": [
    "### Twilio Text Messaging Service\n",
    "\n",
    "Adding in the SMS functionality involved the use of Twilio which has a Python API and is used for sending SMS messages from a pre determined number. Adding in the functionality meant setting up a callable script which would then be utilised by the Flask app. \n"
   ]
  },
  {
   "cell_type": "markdown",
   "metadata": {},
   "source": [
    "### Database Backend\n",
    "\n",
    "One of the most important steps in the process is storing the gathered data. This was also one of the most inexplicably complex steps. Initially adding an SQLite database appeared a trivial step and adding the ratings simply a matter of adding a single SQL statement to the Flask app. However after 2 weeks of trying it was found to be impossible to send data to the database from the Flask app. A question was asked on [StackOverflow](https://stackoverflow.com/questions/45567007/sqlite-and-flask-insert-statement-error) which remains unanswered 5 months later. \n",
    "\n",
    "After this unexplained failure a decision was taken to instead use a NoSQL solution and apply a Google Firebase database to the problem. This stored data as a JSON file and could be structured in a similar fashion to the SQLite database. "
   ]
  },
  {
   "cell_type": "markdown",
   "metadata": {},
   "source": [
    "### Deployment\n",
    "\n",
    "Unfortunately time constraints limited the deployment of the app prior to its reveal to the NHS. This meant that its demonstrating value was limited. A deployment to Amazon Web Services appears to be the simplest at this point and will hopefully happen at some point. Thus giving the overall project its demonstration power.\n"
   ]
  },
  {
   "cell_type": "markdown",
   "metadata": {},
   "source": [
    "### [Code Repo](https://github.com/mattstibbs/nhshd-service-api/tree/Firebase)"
   ]
  }
 ],
 "metadata": {
  "kernelspec": {
   "display_name": "GA",
   "language": "python",
   "name": "ga"
  },
  "language_info": {
   "codemirror_mode": {
    "name": "ipython",
    "version": 2
   },
   "file_extension": ".py",
   "mimetype": "text/x-python",
   "name": "python",
   "nbconvert_exporter": "python",
   "pygments_lexer": "ipython2",
   "version": "2.7.14"
  },
  "toc": {
   "nav_menu": {},
   "number_sections": true,
   "sideBar": true,
   "skip_h1_title": false,
   "toc_cell": false,
   "toc_position": {},
   "toc_section_display": "block",
   "toc_window_display": false
  }
 },
 "nbformat": 4,
 "nbformat_minor": 2
}
