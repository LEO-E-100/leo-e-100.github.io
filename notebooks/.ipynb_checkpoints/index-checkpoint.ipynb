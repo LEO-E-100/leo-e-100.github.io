{
 "cells": [
  {
   "cell_type": "markdown",
   "metadata": {},
   "source": [
    "# Hi there, I'm Leo!\n",
    "\n",
    "I'm a London based data scientist with a particular interest in Big Data and Computation Biology. [Read More...]('about.html')"
   ]
  },
  {
   "cell_type": "markdown",
   "metadata": {},
   "source": [
    "## My Blog\n",
    "\n",
    "- [NHS Hackathon](posts/NHS Hackathon.html) - 06.12.2017 \n",
    "- [KNN Cancer Detection](posts/Cancer_Detection_Notebook.html) - 22.11.2017 \n",
    "- [Fermat's Last Theorem](posts/FLT.html) - 30.07.2017 \n",
    "- [Rock Paper Scissors](posts/Rock_Paper_Scissors.html) - 11.06.2017 "
   ]
  },
  {
   "cell_type": "markdown",
   "metadata": {},
   "source": [
    "## Contact Me\n",
    "\n",
    "- Email: leojpedwards@gmail.com\n",
    "- Github: https://github.com/leo-e-100\n",
    "- LinkedIn: https://www.linkedin.com/in/leo-edwards-5173aa127/\n",
    "- Twitter: @leojpedwards"
   ]
  },
  {
   "cell_type": "code",
   "execution_count": null,
   "metadata": {
    "collapsed": true
   },
   "outputs": [],
   "source": []
  }
 ],
 "metadata": {
  "kernelspec": {
   "display_name": "GA",
   "language": "python",
   "name": "ga"
  },
  "language_info": {
   "codemirror_mode": {
    "name": "ipython",
    "version": 2
   },
   "file_extension": ".py",
   "mimetype": "text/x-python",
   "name": "python",
   "nbconvert_exporter": "python",
   "pygments_lexer": "ipython2",
   "version": "2.7.14"
  }
 },
 "nbformat": 4,
 "nbformat_minor": 2
}
