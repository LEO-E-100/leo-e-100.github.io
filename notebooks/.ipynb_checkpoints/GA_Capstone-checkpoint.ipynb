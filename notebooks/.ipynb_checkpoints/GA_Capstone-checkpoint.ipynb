{
 "cells": [
  {
   "cell_type": "markdown",
   "metadata": {},
   "source": [
    "# Custom News Feed\n",
    "*24-01-18*"
   ]
  },
  {
   "cell_type": "markdown",
   "metadata": {},
   "source": [
    "## Introduction\n",
    "\n",
    "Principle is to build an email service app and flask web app that will deliver a daily email with 5 recommended articles based on what articles a person is interested in according to a machine learning algorithm. This will initally mean creating a model based on data pulled from pocket using the API. Laterly this will mean creating a service that will pull news from RSS feeds and testing them against the model to find top recommendations. Then creating a second service that will send out automatic emails with recommended articles."
   ]
  },
  {
   "cell_type": "markdown",
   "metadata": {},
   "source": [
    "## Creating supervised dataset\n",
    "\n",
    "Using the Pocket API to create the initial dataset. Having curated a dataset by adding ~200 articles to pocket and tagged them with 'y' or 'n' depending on whether the user is interested in the article. Ultimately this will give a dataframe of article urls and a label of whether the user is interested or not."
   ]
  },
  {
   "cell_type": "markdown",
   "metadata": {},
   "source": [
    "## Scraping article content\n",
    "\n",
    "Once the URLs have been recovered it is necessary to scrape the text from these articles in order to carry out the NLP steps. This requires the use of scraping on a number of different web sources. This would be a time consuming process if I were to write a bespoke web scraper for each website. Therefore I decided to use an link embedding service with an api to query. Initially I tried to use embed.ly however this is now a very expensive paid service. I instead have used embed.rocks. This is tested below and applied to the whole list of article URLs from above. \n",
    "\n",
    "Once the raw HTML has been extracted from the API, it was necessary to add just the text as a new column which is done using BeautifulSoup."
   ]
  },
  {
   "cell_type": "code",
   "execution_count": null,
   "metadata": {
    "collapsed": true
   },
   "outputs": [],
   "source": [
    "import urllib\n",
    "def get_html(x):\n",
    "    qurl = urllib.parse.quote(x)\n",
    "    rhtml = requests.get('https://api.embed.rocks/api/?url=' + qurl + '&key=' + config.embed_rocks_key)\n",
    "    try:\n",
    "        ctnt = json.loads(rhtml.text).get('article')\n",
    "    except ValueError:\n",
    "        ctnt = None\n",
    "    return ctnt\n",
    "df.loc[:, 'html'] = df['urls'].map(get_html)\n",
    "df.dropna(inplace=True)\n",
    "df.head()"
   ]
  },
  {
   "cell_type": "code",
   "execution_count": null,
   "metadata": {
    "collapsed": true
   },
   "outputs": [],
   "source": [
    "from bs4 import BeautifulSoup\n",
    "def get_text(x):\n",
    "    soup = BeautifulSoup(x, 'lxml')\n",
    "    text = soup.get_text()\n",
    "    return text\n",
    "df.loc[:, 'text'] = df['html'].map(get_text)\n",
    "df.dropna(inplace=True)\n",
    "df.head()"
   ]
  },
  {
   "cell_type": "markdown",
   "metadata": {},
   "source": [
    "## Natural Language Processing\n",
    "\n",
    "From the text column it is possible to call a vectorizer in order to turn the text data into a usable matrix format for Machine Learning. \n",
    "\n",
    "For this project the `TfidfVectorizer` was used. This calculates a score for words based on the inverse of how commonly they occur. Thus rare words (which intuitively have greater explanatory power) are weighted most highly. \n",
    "\n",
    "As well as this the `stop_words` argument was also called to eliminate the most common words (i.e. 'the', 'a', 'said' etc.) This gives the vector matrix the maximum possible explanatory power."
   ]
  },
  {
   "cell_type": "code",
   "execution_count": null,
   "metadata": {
    "collapsed": true
   },
   "outputs": [],
   "source": [
    "from sklearn.feature_extraction.text import TfidfVectorizer\n",
    "vect = TfidfVectorizer(ngram_range=(1,3), stop_words='english', min_df=3)\n",
    "vector_matrix = vect.fit_transform(df['text'])"
   ]
  },
  {
   "cell_type": "markdown",
   "metadata": {},
   "source": [
    "## Support Vector Machines\n",
    "\n",
    "Building a Support Vector Machine model from the vectorised data. This step will require some evaluation of the quality of the model. As well as simple building of the model a GridSearch cross validation was called to establish the most effective parameters to call. This also meant splitting the data into train/test in order to score the various parameter combinations."
   ]
  },
  {
   "cell_type": "code",
   "execution_count": null,
   "metadata": {
    "collapsed": true
   },
   "outputs": [],
   "source": [
    "from sklearn.svm import LinearSVC, SVC\n",
    "clf = SVC()\n",
    "model = clf.fit(vector_matrix, df['wanted'])"
   ]
  },
  {
   "cell_type": "code",
   "execution_count": null,
   "metadata": {
    "collapsed": true
   },
   "outputs": [],
   "source": [
    "X = vector_matrix\n",
    "y = df['wanted']"
   ]
  },
  {
   "cell_type": "code",
   "execution_count": null,
   "metadata": {
    "collapsed": true
   },
   "outputs": [],
   "source": [
    "from sklearn.model_selection import GridSearchCV\n",
    "from sklearn.model_selection import train_test_split\n",
    "import numpy as np\n",
    "\n",
    "X_train, X_test, y_train, y_test = train_test_split(X, y)\n",
    "\n",
    "params = {\n",
    "    \"C\" : [1],\n",
    "    \"kernel\" : ['rbf'],\n",
    "    \"gamma\" : np.linspace(0, 100, 10)\n",
    "}\n",
    "\n",
    "gridSearch = GridSearchCV(clf, params, cv=5, n_jobs=1, verbose=1)\n",
    "model = gridSearch.fit(X_train, y_train)"
   ]
  },
  {
   "cell_type": "code",
   "execution_count": null,
   "metadata": {
    "collapsed": true
   },
   "outputs": [],
   "source": [
    "print (model.best_params_)\n",
    "best_model = model.best_estimator_\n",
    "best = best_model.fit(X_train, y_train)\n",
    "score = best.score(X_test, y_test)\n",
    "print ('Score:\\t', score)"
   ]
  },
  {
   "cell_type": "markdown",
   "metadata": {},
   "source": [
    "## Output Model to Pickle\n",
    "\n",
    "This step involves pickling the model in order that it is callable from elsewhere in the system. In particular that it is callable by both the Flask app and by the script which will provide the email service from AWS."
   ]
  },
  {
   "cell_type": "code",
   "execution_count": null,
   "metadata": {
    "collapsed": true
   },
   "outputs": [],
   "source": [
    "import pickle\n",
    "pickle.dump(model, open(r'news_model_pickle.pkl', 'wb'))\n",
    "pickle.dump(vect, open(r'news_vect_pickle.pkl', 'wb'))"
   ]
  },
  {
   "cell_type": "markdown",
   "metadata": {},
   "source": [
    "## Delivering the app\n",
    "\n",
    "The two methods of deliver were email and Flask app.\n",
    "\n",
    "### Flask App\n",
    "\n",
    "A flask app was produced that would call a stripped down method of the model and return the top five results as links. This app can be viewed in its entirety in the [GitHub Repo](https://github.com/LEO-E-100/custom_news) however it is relatively simple and gathers the RSS sources from an IFTTT system which delivers news articles to a Google Sheet which can then be loaded into Python using `gspread` the google library for Python. The data is then dynamically loaded into the HTML using the simple Flask method.\n",
    "\n",
    "### Email App\n",
    "\n",
    "A script was written which would gather results in the same was as the Flask app but would send them via IFTTT to a specified email address. This script was then run from an Amazon Web Services server through a cron job which would run once a day. Thus delivering new recommonded stories each day to the users inbox."
   ]
  },
  {
   "cell_type": "markdown",
   "metadata": {},
   "source": [
    "## [Code Repo](https://github.com/LEO-E-100/custom_news)\n",
    "\n",
    "*N.B. Code samples in this post have not been run as they are not complete and would fail. Please see the repo for complete code*"
   ]
  },
  {
   "cell_type": "code",
   "execution_count": null,
   "metadata": {
    "collapsed": true
   },
   "outputs": [],
   "source": []
  }
 ],
 "metadata": {
  "kernelspec": {
   "display_name": "Python_3",
   "language": "python",
   "name": "py35"
  },
  "language_info": {
   "codemirror_mode": {
    "name": "ipython",
    "version": 3
   },
   "file_extension": ".py",
   "mimetype": "text/x-python",
   "name": "python",
   "nbconvert_exporter": "python",
   "pygments_lexer": "ipython3",
   "version": "3.5.4"
  },
  "toc": {
   "nav_menu": {},
   "number_sections": true,
   "sideBar": true,
   "skip_h1_title": false,
   "toc_cell": false,
   "toc_position": {},
   "toc_section_display": "block",
   "toc_window_display": false
  }
 },
 "nbformat": 4,
 "nbformat_minor": 2
}
