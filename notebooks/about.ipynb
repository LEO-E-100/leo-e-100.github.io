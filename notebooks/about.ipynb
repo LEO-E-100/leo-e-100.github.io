{
 "cells": [
  {
   "cell_type": "markdown",
   "metadata": {},
   "source": [
    "# About Me\n",
    "\n",
    "\n",
    "I am a London based data scientist, currently working on the Data Science Immersive course at General Assembly London.\n",
    "\n",
    "I have a Master's degree in Computer Science from UCL and an Undergraduate degree in Biological Science from Oxford University.\n",
    "\n",
    "It was at Oxford that my passion for technology and data science really evolved as data analysis was covered in some depth to facilitate experiments into biological cell function. Learning to code in R for data analysis was an eye-opening experience and caused me to seek out more in the way of coding experience and data analysis projects.\n",
    "\n",
    "Over the following summer I taught myself to code in Python and began projects to learn Machine Learning techniques as well as the bread and butter tools of Python data analytics.\n",
    "\n",
    "After finishing my Master's I had a strong desire to delve deeper into data science and to really challenge myself to turn my hobby into a career. This led me to the Data Science Immersive course at General Assembly. There I gained the experience and knowledge to approach data problems in a structured way to gain the most valuable insights.\n",
    "\n",
    "My interests at the moment are largely in applying my knowledge of data and computer science into a data engineering or data science setting. In particular big data, machine learning, artificial intelligence and computational biology are my areas of interest and expertise.\n",
    "\n",
    "I have a passion for combining my background in biology, computer science and data science. In particular in healthcare analytics which I feel is a vital and fascinating area of research to which I hope to contribute in the future.\n",
    "\n",
    "[Download my CV](assets/CV.pdf)"
   ]
  },
  {
   "cell_type": "code",
   "execution_count": null,
   "metadata": {
    "collapsed": true
   },
   "outputs": [],
   "source": []
  }
 ],
 "metadata": {
  "kernelspec": {
   "display_name": "GA",
   "language": "python",
   "name": "ga"
  },
  "language_info": {
   "codemirror_mode": {
    "name": "ipython",
    "version": 2
   },
   "file_extension": ".py",
   "mimetype": "text/x-python",
   "name": "python",
   "nbconvert_exporter": "python",
   "pygments_lexer": "ipython2",
   "version": "2.7.14"
  }
 },
 "nbformat": 4,
 "nbformat_minor": 2
}
