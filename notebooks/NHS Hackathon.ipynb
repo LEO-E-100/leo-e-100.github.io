{
 "cells": [
  {
   "cell_type": "markdown",
   "metadata": {},
   "source": [
    "# NHS Hackathon\n",
    "*6-12-2017*\n",
    "\n",
    "On the 15th and 16th of July 2017 NHS HackDay was held in [Manchester](http://nhshackday.com/previous/events/2017/05/manchester/). This was a day for 'Geeks who love the NHS'. I attended with my masters project supervisor Joseph Connor who proposed an idea of his to the group.\n",
    "\n",
    "This idea was that users of the NHS should generate outcomes data from their visits. This largely meant that people who use the NHS should give feedback on their experience. There followed a series of discussions around this idea and how we could 'kill it off' (Joe is keen on validating ideas by trying to invalidate them).\n",
    "\n",
    "The first morning was spent consulting with the assembled group of NHS stakeholders (patients, doctors, nurses, administrators and developers from NHS digital). These ideas proved invaluable for the project going forward. \n",
    "\n",
    "The project was dubbed **'UGO'** and this became the basis of my master's project. I will make a post about the design and implementation of this project later. Here I will focus on the experience of attending my first Hackathon.\n",
    "\n",
    "I had been told previously that hackathons were an invaluable networking and productivity event. I was told I would meet interesting people who would be keen to help me with whatever project I was working on. I had also felt that despite these encouragements I was not nearly good enough to attend one. I didn't want to have my coding exposed to the acid test of being analysed as I typed. I was a fairly experienced programmer by this point and I was still scared to go. \n",
    "\n",
    "It was Joe who eventually convinced me that I should attend my first Hack day. I thought an NHS day would suit my background well and would fit with my plans for my master's project. I therefore set out to Manchester with some nerves. \n",
    "\n",
    "I was greeted on arriving by Joe who promptly introduced me to a number of friendly faces. I discovered that I was not significantly out of my depth, in fact I had some skills that others did not, I also found that I was surrounded by a huge variety of people. Everyone in the room had different skills and competencies. More than this everyone was very keen to share what they know. What people had told me about how much I would learn was completely true. \n",
    "\n",
    "There were around 50 attendees to the hack (at a total by eye estimate!) and I met them all. When I had a problem with the JavaScript in my project (I've never used JS before so I had a lot of problems!) I had just to ask the hacker next to me and he would happily teach me exactly what I needed. When others had problems with Flask and Python I was called upon to help. The community atmosphere was amazing. This was furthered by the saturday night which involved heading to the pub and then a burger bar for some much needed relaxation and time to get to know each other. \n",
    "\n",
    "Overall the experience was an immensely positive one. I met some fascinating people, I learned technical skills, I learned a huge amount about collaborative team work but most of all I had a really great time!"
   ]
  },
  {
   "cell_type": "code",
   "execution_count": null,
   "metadata": {
    "collapsed": true
   },
   "outputs": [],
   "source": []
  }
 ],
 "metadata": {
  "kernelspec": {
   "display_name": "GA",
   "language": "python",
   "name": "ga"
  },
  "language_info": {
   "codemirror_mode": {
    "name": "ipython",
    "version": 2
   },
   "file_extension": ".py",
   "mimetype": "text/x-python",
   "name": "python",
   "nbconvert_exporter": "python",
   "pygments_lexer": "ipython2",
   "version": "2.7.14"
  }
 },
 "nbformat": 4,
 "nbformat_minor": 2
}
