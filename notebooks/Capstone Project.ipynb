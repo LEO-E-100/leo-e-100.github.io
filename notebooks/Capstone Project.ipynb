{
 "cells": [
  {
   "cell_type": "markdown",
   "metadata": {},
   "source": [
    "# Capstone Project\n",
    "*14-12-2017*"
   ]
  },
  {
   "cell_type": "markdown",
   "metadata": {},
   "source": [
    "At General Assembly my last month of the course will be spent working on my 'Capstone' project, this is a project which will bring together all that I have learned and will hopefully be a successful project and will show my abilities.\n",
    "\n",
    "The idea that I have decided to follow is hopefully going to encompass many of my favourite data tools and principles. I wanted to have a 'Big Data' angle as well as a Natural Language Processing element. \n",
    "\n",
    "I settled on a project which would be in three parts.\n",
    "\n",
    "1. A web scraper that would grab the date, location, headline and content of news articles\n",
    "2. A script to run NLP analysis and cluster the articles\n",
    "3. Create a graph data structure of the information and clusters\n",
    "4. (Time Permitting) Use these clusters to predict future events\n",
    "\n",
    "It is clear that the quantity of data that will be produced by this is potentially enormous. I hope to scrape most BBC articles and Reuters articles in order to generate a dataset as large as possible. Data this large will likely not be runnable on my laptop. I will therefore have to combine Spark and AWS (I will have to research this further - perhaps Hadoop will be useful?)\n",
    "\n",
    "I have already created a basic test dataset of 10 articles which will be useful for running some proof of concept tests prior to Christmas. This will hopefully lead to validation of the principles on which I am working. The current code is laid out below with some basic comments added."
   ]
  },
  {
   "cell_type": "code",
   "execution_count": 12,
   "metadata": {
    "collapsed": true
   },
   "outputs": [],
   "source": [
    "# Basic imports that have grown as the project went on \n",
    "# Useful for keeping track of dependcies\n",
    "import requests\n",
    "import bs4\n",
    "import feedparser\n",
    "import pandas as pd\n",
    "from bs4 import BeautifulSoup\n",
    "from scrapy.selector import Selector\n",
    "from pprint import pprint"
   ]
  },
  {
   "cell_type": "code",
   "execution_count": 2,
   "metadata": {
    "collapsed": true
   },
   "outputs": [],
   "source": [
    "# Test URL initially - if we can scrape one webpage, we can follow the same formula repeatedly\n",
    "URL = 'http://www.bbc.co.uk/news/uk-politics-42277040'"
   ]
  },
  {
   "cell_type": "code",
   "execution_count": 3,
   "metadata": {
    "collapsed": true
   },
   "outputs": [],
   "source": [
    "# Basic web scraping flow\n",
    "r = requests.get(URL)\n",
    "soup = BeautifulSoup(r.text, 'html.parser')\n",
    "results = soup.find_all('div', class_='story-body')\n",
    "test_result = results[0]"
   ]
  },
  {
   "cell_type": "code",
   "execution_count": 4,
   "metadata": {
    "collapsed": true
   },
   "outputs": [],
   "source": [
    "# Extracting the Headline\n",
    "headline = test_result.find('h1', class_='story-body__h1').text"
   ]
  },
  {
   "cell_type": "code",
   "execution_count": 5,
   "metadata": {
    "collapsed": true
   },
   "outputs": [],
   "source": [
    "# Extracting the date posted\n",
    "date_posted = test_result.find('div', class_= 'date date--v2').text"
   ]
  },
  {
   "cell_type": "code",
   "execution_count": 6,
   "metadata": {
    "collapsed": true
   },
   "outputs": [],
   "source": [
    "# Extracting the article text\n",
    "article_text = test_result.find('div', class_= 'story-body__inner').text"
   ]
  },
  {
   "cell_type": "code",
   "execution_count": 7,
   "metadata": {
    "collapsed": true
   },
   "outputs": [],
   "source": [
    "# The BBC has tags of related articles at the bottom of the article, this will extract them\n",
    "tags_division = soup.find_all('div', class_='tags-container')"
   ]
  },
  {
   "cell_type": "code",
   "execution_count": 26,
   "metadata": {},
   "outputs": [],
   "source": [
    "# Create a list of all tags in the division\n",
    "tags = []\n",
    "for i in range(len(tags_division)):\n",
    "    temp = tags_division[i].find_all('a')\n",
    "    temp_1 = temp[0].text\n",
    "    tags.append(temp_1)"
   ]
  },
  {
   "cell_type": "code",
   "execution_count": 27,
   "metadata": {
    "collapsed": true
   },
   "outputs": [],
   "source": [
    "# Creating a data dictionary of the extracted data\n",
    "# allows the extracted data to be formed into a dataframe\n",
    "data_dict = {\n",
    "    'headline' : headline,\n",
    "    'date' : date_posted,\n",
    "    'tags' : [tags],\n",
    "    'text' : article_text\n",
    "}"
   ]
  },
  {
   "cell_type": "code",
   "execution_count": 28,
   "metadata": {
    "collapsed": true
   },
   "outputs": [],
   "source": [
    "# Ultimately unused list of the column headings\n",
    "column_heads = ['headline', 'date', 'tags', 'text']"
   ]
  },
  {
   "cell_type": "code",
   "execution_count": 29,
   "metadata": {},
   "outputs": [],
   "source": [
    "# The final test dataframe\n",
    "test_df = pd.DataFrame(data=data_dict)"
   ]
  },
  {
   "cell_type": "code",
   "execution_count": 31,
   "metadata": {},
   "outputs": [
    {
     "name": "stdout",
     "output_type": "stream",
     "text": [
      "[u\"Walt Disney buys Murdoch's Fox for $52.4bn\", u\"Putin: Trump opponents harm US with 'invented' Russia scandal\", u\"Joe Biden comforts John McCain's daughter over cancer\", u'Niki Austrian airline failure strands many passengers', u\"Roy Moore says Alabama election 'tainted' by outside groups\", u'EU leaders wrestle with migrant quotas at summit', u\"Zimbabwe's Mnangagwa seeks end to Western sanctions\", u'Somalia suicide bomber kills police at Mogadishu academy', u'India happiness minister sought as murder suspect in Madhya Pradesh', u'Bollywood star faces eviction from Paris apartment']\n"
     ]
    }
   ],
   "source": [
    "# BBC has an RSS feed which I can use to grab some articles\n",
    "# This cell will simply use it for headlines initially\n",
    "feed = feedparser.parse('http://feeds.bbci.co.uk/news/world/rss.xml')\n",
    "headlines = []\n",
    "for i in range(10):\n",
    "    temp = feed.entries[i].title\n",
    "    headlines.append(temp)\n",
    "print headlines"
   ]
  },
  {
   "cell_type": "code",
   "execution_count": 65,
   "metadata": {
    "collapsed": true
   },
   "outputs": [],
   "source": [
    "# Using the methods above we can create a simple function which \n",
    "# will allow the scraping to become easier down the line\n",
    "def scrape(URL):\n",
    "    r = requests.get(URL)\n",
    "    soup = BeautifulSoup(r.text, 'html.parser')\n",
    "    results = soup.find_all('div', class_='story-body')\n",
    "    test_result = results[0]\n",
    "    headline = test_result.find('h1', class_='story-body__h1').text\n",
    "    date_posted = test_result.find('div', class_= 'date date--v2').text\n",
    "    article_text = test_result.find('div', class_= 'story-body__inner').text\n",
    "    \n",
    "    tags = scrape_tags(soup)\n",
    "    \n",
    "    return headline, date_posted, tags, article_text"
   ]
  },
  {
   "cell_type": "code",
   "execution_count": 33,
   "metadata": {
    "collapsed": true
   },
   "outputs": [],
   "source": [
    "# Separate the slightly more complex tags scraping as this deserves its own function\n",
    "# This function is called within the larger scraping function\n",
    "def scrape_tags(s):\n",
    "    tags_division = s.find_all('div', class_='tags-container')\n",
    "    tags = []\n",
    "    for i in range(len(tags_division)):\n",
    "        temp = tags_division[i].find_all('a')\n",
    "        temp_1 = temp[0].text\n",
    "        tags.append(temp_1)\n",
    "    return tags"
   ]
  },
  {
   "cell_type": "code",
   "execution_count": 17,
   "metadata": {
    "collapsed": true
   },
   "outputs": [],
   "source": [
    "# Creating the dataframe is the final step - at this point this function doesn't work\n",
    "def dataframify(dictionary):\n",
    "    \n",
    "    column_heads = dictionary.keys()\n",
    "    \n",
    "    return pd.DataFrame(data=dictionary, columns=column_heads)"
   ]
  },
  {
   "cell_type": "code",
   "execution_count": 34,
   "metadata": {},
   "outputs": [
    {
     "data": {
      "text/plain": [
       "(u\"Brexit: 'Breakthrough' deal paves way for future trade talks\",\n",
       " u'8 December 2017',\n",
       " [[u'Brexit', u'DUP (Democratic Unionist Party)']],\n",
       " u'\\n\\n\\n\\nMedia playback is unsupported on your device\\n\\n\\n\\n\\n\\n Media captionThe prime minister said the deal will allow more to be invested in \"priorities at home\"\\nPM Theresa May has struck a last-minute deal with the EU in a bid to move Brexit talks on to the next phase.There will be no \"hard border\" with Ireland; and the rights of EU citizens in the UK and UK citizens in the EU will be protected.The so-called \"divorce bill\" will amount to between \\xa335bn and \\xa339bn, Downing Street sources say.The European Commission president said it was a \"breakthrough\" and he was confident EU leaders will approve it.  \\nBrexit deal as it happened\\nFull text of the EU-UK statement\\nKuenssberg: Theresa May buys breathing space\\nSo, did \\'soft Brexit\\' just win?\\nBrexitcast - EU deal special\\nReality Check: What next for talks?\\nThey are due to meet next Thursday for a European Council summit and need to give their backing to the deal if the next phase of negotiations are to begin.\\n\\n\\n            /**/\\n            (function() {\\n                if (window.bbcdotcom && bbcdotcom.adverts && bbcdotcom.adverts.slotAsync) {\\n                    bbcdotcom.adverts.slotAsync(\\'mpu\\', [1,2,3]);\\n                }\\n            })();\\n            /**/\\n        \\n\\nTalks can then move onto a transition deal to cover a period of up to two years after Brexit, and the \"framework for the future relationship\" - preliminary discussions about a future trade deal, although the EU says a deal can only be finalised once the UK has left the EU. A final withdrawal treaty and transition deal will have to be ratified by the EU nations and the UK Parliament, before the UK leaves in March 2019. Northern Ireland\\'s Democratic Unionist Party, whose opposition on Monday led to talks breaking down,  said there was still \"more work to be done\" on the border issue and how it votes on the final deal \"will depend on its contents\". Mrs May depends on the party\\'s support to win key votes in Westminster.The pound was trading at a six-month high against the euro as news broke of the draft agreement.What has been agreed?\\nGuarantee that there will be \"no hard border\" between Northern Ireland and the Republic and that the \"constitutional and economic integrity of the United Kingdom\" will be maintained. \\n\\nEU citizens living in the UK and vice versa will have their rights to live, work and study protected.  The agreement includes reunification rights for relatives who do not live in the UK to join them in their host country in the future\\n\\nFinancial settlement - No specific figure is in the document but Downing Street sources say it will be between \\xa335bn and \\xa339bn, including budget contributions during a two-year \"transition\" period after March 2019\\nBrexit: All you need to knowThe Irish border - the devil in the detailThe UK government and the EU want to maintain the free flow of goods, without border checks that they fear could threaten a return to The Troubles, but the DUP does not want Northern Ireland to be treated differently to the rest of the UK after Brexit.The joint EU-UK document says any future deal must protect \"North-South co-operation\" and hold to the UK\\'s \"guarantee of avoiding a hard border\".The agreement also says \"no new regulatory barriers\" will be allowed between Northern Ireland and the rest of the UK, and that Northern Ireland\\'s businesses will continue to have \"unfettered access\" to the UK internal market - a passage thought to have been added to meet DUP concerns.But it also sets out a fallback position if the UK fails to agree a trade deal. This could prove controversial because it says there will continue to be \"full alignment\" between the EU and Northern Ireland on some elements of cross-border trade, as set out in the Good Friday Agreement.The DUP would have preferred this not to be in the agreement, says the BBC\\'s Chris Morris, and there could be some hard negotiating to do further down the line.\\n\\'More Brexit work to be done\\' warns Foster\\nWhat does Brexit deal mean for NI?\\nWatching the Brexit deal unfold in Brussels\\nCitizens\\' rights - same for everyone?Agreement has been reached on what happens to the three million EU citizens living in the UK and more than a million UK citizens in EU states after Brexit. EU citizens currently in the UK would be allowed to continue living and working there - and those already in the country who do not yet have permanent residency would be able to acquire it after Brexit. Freedom of movement could continue for two years after March 2019, although the UK says new arrivals will have to register.The plan is that UK citizens in living in an EU country would get the same rights, although they would not retain them if they moved to another EU country.For eight years after Brexit, UK courts will be able to refer cases involving EU nationals to the European Court of Justice for interpretation.But the campaign group the 3million, which represents EU citizens in the UK, said there was \"still no clarity around the registration criteria for these rights\" and said of the eight years: \"Our rights should not have an expiry date\".Brexit: What now for EU citizens in the UK?The divorce bill - a figure at lastA figure is not mentioned in the text of the agreement but Downing Street sources says it will be between \\xa335bn and \\xa339bn.  It will be paid over four years and the precise figure is unlikely to be known for some time.EU Brexit negotiator Michel Barnier said the EU had agreed to drop the cost of relocating UK-based EU agencies from the final divorce bill.The prime minister said it would be \"fair to the British taxpayer\" and would mean the UK in future \"will be able to invest more in our priorities at home, such as housing, schools and the NHS\".What happens next?Technically a future trade deal cannot be signed while the UK remains a member of the EU but \"preliminary and preparatory discussions\" can begin.But the EU\\'s chief Brexit negotiator Michel Barnier has said the withdrawal treaty and transition deal need to be ready by October 2018 - in order that they can be ratified by March 2019, before the \"real negotiation\" begins on the future relationship. Mr Barnier suggested on Friday that the only option for a future trade arrangement was a Canada-style deal, rather than a one based on Norway, which retains free movement and unrestricted access to the single market but pays into the EU budget.The European Council wants the UK to remain a \"member\" of the EU\\'s customs union and single market and to remain under the full jurisdiction of the European Court of Justice during the transition period, according to a leaked document. What has changed since Monday?\\n\\n\\nMedia playback is unsupported on your device\\n\\n\\n\\n\\n\\n Media captionDUP leader Arlene Foster welcomes \"no red line down the Irish Sea\"\\nThe DUP, whose opposition on Monday led to talks breaking down, say there have been six \"substantial changes\" to the text. Party leader Arlene Foster said they would mean there was \"no red line down the Irish Sea\" - meaning no customs barrier between Northern Ireland and the rest of the UK. But BBC Northern Ireland economics editor John Campbell says there is a lot of hard negotiating to come and compromises to be made.Another interpretation of the deal is that that it still leaves the door open for a special status for Northern Ireland, he adds.What does Brexit deal mean for NI?\\n\\n\\n\\nBBC political editor Laura Kuenssberg\\'s analysisThe prime minister made her decisions on Thursday night while the No 10 Downing Street Christmas party carried on.It isn\\'t celebration on Friday though for her government, but relief.Read more from Laura\\n\\n\\n\\nHow has it been received?\\n\\n\\nMedia playback is unsupported on your device\\n\\n\\n\\n\\n\\n Media captionIreland\\'s Taoiseach Leo Varadkar: \"This is not the end but it is the end of the beginning\"\\nTheresa May\\'s cabinet colleagues heaped praise on her, with Environment Secretary Michael Gove saying it was a \"significant personal political achievement\" for Mrs May while Foreign Secretary Boris Johnson tweeted: \"Congratulations to PM for her determination in getting today\\'s deal.\"But Labour\\'s Brexit spokesman Sir Keir Starmer said Mrs May should \"seriously reflect on her approach to the negotiations so far\".He added: \"Despite being two months later than originally planned, it is encouraging that the European Commission has recommended sufficient progress in the Brexit negotiations.\"European press relieved at Brexit \\'white smoke\\'\\n\\n\\nMedia playback is unsupported on your device\\n\\n\\n\\n\\n\\n Media captionJeremy Corbyn: \"My party stands for a completely different future when we leave the EU\"\\n\\n\\n\\nMedia playback is unsupported on your device\\n\\n\\n\\n\\n\\n Media captionBritain will pay \"an extravagant sum of money we don\\'t owe\" and leave it unable to make its own trade deal, says Nigel Farage\\nDUP Leader Arlene Foster said it meant that Northern Ireland would \"not be separated constitutionally, politically, economically or regulatory from the rest of the United Kingdom\" and \"in all circumstances the United Kingdom will continue to ensure the same unfettered access for Northern Ireland\\'s businesses to the whole of the UK internal market\".Scotland\\'s First Minister Nicola Sturgeon tweeted: \"Move to phase 2 of talks is good - but the devil is in the detail and things now get really tough.\"Lib Dem leader Vince Cable, who backs a referendum on the final deal, said \"it reduces the risk of a catastrophic no-deal Brexit\" but questioned if it would last or be \"torn apart by Theresa May\\'s own MPs\".  Former UKIP leader Nigel Farage told the BBC the estimated bill was \"way more than we need to pay\" and he was unhappy that the European Court of Justice would continue to have a role for up to eight years. \"The whole thing is humiliating. We have collapsed at every level.\"\\n\\n\\nMedia playback is unsupported on your device\\n\\n\\n\\n\\n\\n Media caption\"No champagne\" for the Brexit negotiators, who \"have to drink water\"\\n\\n\\n\\nMedia playback is unsupported on your device\\n\\n\\n\\n\\n\\n Media captionJean-Claude Juncker: \"Sufficient progress\" will see Brexit trade talks begin\\n\\n\\n\\nMedia playback is unsupported on your device\\n\\n\\n\\n\\n\\n Media captionTusk: \\'Breaking up is hard, building a new relationship is harder\\'\\n\\n')"
      ]
     },
     "execution_count": 34,
     "metadata": {},
     "output_type": "execute_result"
    }
   ],
   "source": [
    "# Testing that the function works\n",
    "scrape(URL)"
   ]
  },
  {
   "cell_type": "code",
   "execution_count": 35,
   "metadata": {
    "collapsed": true
   },
   "outputs": [],
   "source": [
    "# Using the function requires a useful RSS feeder function to set up the RSS feed\n",
    "RSS_URL = 'http://feeds.bbci.co.uk/news/world/rss.xml'\n",
    "\n",
    "def RSS_reader(URL):\n",
    "    feed = feedparser.parse(URL)\n",
    "    links = []\n",
    "    for i in range(len(feed.entries)):\n",
    "        temp = feed.entries[i].link\n",
    "        links.append(temp)\n",
    "    return links"
   ]
  },
  {
   "cell_type": "code",
   "execution_count": 63,
   "metadata": {},
   "outputs": [
    {
     "name": "stdout",
     "output_type": "stream",
     "text": [
      "30\n"
     ]
    }
   ],
   "source": [
    "links = RSS_reader(RSS_URL)\n",
    "new_links = [x.encode('ascii', 'ignore') for x in links]\n",
    "print len(new_links)"
   ]
  },
  {
   "cell_type": "code",
   "execution_count": 66,
   "metadata": {},
   "outputs": [
    {
     "name": "stdout",
     "output_type": "stream",
     "text": [
      "0\n",
      "http://www.bbc.co.uk/news/business-42353545\n",
      "1\n",
      "http://www.bbc.co.uk/news/world-europe-42349906\n",
      "2\n",
      "http://www.bbc.co.uk/news/world-us-canada-42351576\n",
      "3\n",
      "http://www.bbc.co.uk/news/world-europe-42355776\n",
      "4\n",
      "http://www.bbc.co.uk/news/world-us-canada-42346121\n",
      "5\n",
      "http://www.bbc.co.uk/news/world-europe-42352876\n",
      "6\n",
      "http://www.bbc.co.uk/news/world-africa-42358058\n",
      "7\n",
      "http://www.bbc.co.uk/news/world-asia-42356797\n",
      "8\n",
      "http://www.bbc.co.uk/news/world-africa-42350072\n",
      "9\n",
      "http://www.bbc.co.uk/news/world-asia-india-42349711\n"
     ]
    },
    {
     "data": {
      "text/html": [
       "<div>\n",
       "<style scoped>\n",
       "    .dataframe tbody tr th:only-of-type {\n",
       "        vertical-align: middle;\n",
       "    }\n",
       "\n",
       "    .dataframe tbody tr th {\n",
       "        vertical-align: top;\n",
       "    }\n",
       "\n",
       "    .dataframe thead th {\n",
       "        text-align: right;\n",
       "    }\n",
       "</style>\n",
       "<table border=\"1\" class=\"dataframe\">\n",
       "  <thead>\n",
       "    <tr style=\"text-align: right;\">\n",
       "      <th></th>\n",
       "      <th>headline</th>\n",
       "      <th>date</th>\n",
       "      <th>tags</th>\n",
       "      <th>text</th>\n",
       "    </tr>\n",
       "  </thead>\n",
       "  <tbody>\n",
       "    <tr>\n",
       "      <th>0</th>\n",
       "      <td>Walt Disney buys Murdoch's Fox for $52.4bn</td>\n",
       "      <td>14 December 2017</td>\n",
       "      <td>[Disney]</td>\n",
       "      <td>\\n\\n\\n\\nImage copyright\\nDisney\\n\\n\\nImage cap...</td>\n",
       "    </tr>\n",
       "    <tr>\n",
       "      <th>1</th>\n",
       "      <td>Putin: Trump opponents harm US with 'invented'...</td>\n",
       "      <td>14 December 2017</td>\n",
       "      <td>[Russia-Trump inquiry, Russia]</td>\n",
       "      <td>\\n\\n\\n\\nImage copyright\\nReuters\\n\\n\\nImage ca...</td>\n",
       "    </tr>\n",
       "    <tr>\n",
       "      <th>2</th>\n",
       "      <td>Joe Biden comforts John McCain's daughter over...</td>\n",
       "      <td>14 December 2017</td>\n",
       "      <td>[Cancer]</td>\n",
       "      <td>\\n\\n\\n\\nImage copyright\\nReuters\\n\\n\\nImage ca...</td>\n",
       "    </tr>\n",
       "    <tr>\n",
       "      <th>3</th>\n",
       "      <td>Niki Austrian airline failure strands many pas...</td>\n",
       "      <td>14 December 2017</td>\n",
       "      <td>[Austria]</td>\n",
       "      <td>\\n\\n\\n\\nImage copyright\\nAFP\\n\\n\\nImage captio...</td>\n",
       "    </tr>\n",
       "    <tr>\n",
       "      <th>4</th>\n",
       "      <td>Roy Moore says Alabama election 'tainted' by o...</td>\n",
       "      <td>14 December 2017</td>\n",
       "      <td>[Roy Moore]</td>\n",
       "      <td>\\n\\n\\n\\nImage copyright\\nReuters\\n\\n\\nImage ca...</td>\n",
       "    </tr>\n",
       "  </tbody>\n",
       "</table>\n",
       "</div>"
      ],
      "text/plain": [
       "                                            headline              date  \\\n",
       "0         Walt Disney buys Murdoch's Fox for $52.4bn  14 December 2017   \n",
       "1  Putin: Trump opponents harm US with 'invented'...  14 December 2017   \n",
       "2  Joe Biden comforts John McCain's daughter over...  14 December 2017   \n",
       "3  Niki Austrian airline failure strands many pas...  14 December 2017   \n",
       "4  Roy Moore says Alabama election 'tainted' by o...  14 December 2017   \n",
       "\n",
       "                             tags  \\\n",
       "0                        [Disney]   \n",
       "1  [Russia-Trump inquiry, Russia]   \n",
       "2                        [Cancer]   \n",
       "3                       [Austria]   \n",
       "4                     [Roy Moore]   \n",
       "\n",
       "                                                text  \n",
       "0  \\n\\n\\n\\nImage copyright\\nDisney\\n\\n\\nImage cap...  \n",
       "1  \\n\\n\\n\\nImage copyright\\nReuters\\n\\n\\nImage ca...  \n",
       "2  \\n\\n\\n\\nImage copyright\\nReuters\\n\\n\\nImage ca...  \n",
       "3  \\n\\n\\n\\nImage copyright\\nAFP\\n\\n\\nImage captio...  \n",
       "4  \\n\\n\\n\\nImage copyright\\nReuters\\n\\n\\nImage ca...  "
      ]
     },
     "execution_count": 66,
     "metadata": {},
     "output_type": "execute_result"
    }
   ],
   "source": [
    "df = pd.DataFrame(columns=column_heads)\n",
    "\n",
    "for link in range(10):\n",
    "    print link\n",
    "    print new_links[link]\n",
    "    temp_headline, temp_date_posted, temp_tags, temp_article_text = scrape(new_links[link])\n",
    "\n",
    "    temp_list = [temp_headline, temp_date_posted, temp_tags, temp_article_text]\n",
    "\n",
    "    df.loc[link] = temp_list\n",
    "\n",
    "# df.set_value(temp_headline, temp_date_posted, temp_tags, temp_article_text)\n",
    "\n",
    "df.head()"
   ]
  },
  {
   "cell_type": "code",
   "execution_count": null,
   "metadata": {
    "collapsed": true
   },
   "outputs": [],
   "source": []
  }
 ],
 "metadata": {
  "kernelspec": {
   "display_name": "GA",
   "language": "python",
   "name": "ga"
  },
  "language_info": {
   "codemirror_mode": {
    "name": "ipython",
    "version": 2
   },
   "file_extension": ".py",
   "mimetype": "text/x-python",
   "name": "python",
   "nbconvert_exporter": "python",
   "pygments_lexer": "ipython2",
   "version": "2.7.14"
  },
  "toc": {
   "nav_menu": {},
   "number_sections": true,
   "sideBar": true,
   "skip_h1_title": false,
   "toc_cell": false,
   "toc_position": {},
   "toc_section_display": "block",
   "toc_window_display": false
  }
 },
 "nbformat": 4,
 "nbformat_minor": 2
}
